{
  "nbformat": 4,
  "nbformat_minor": 0,
  "metadata": {
    "colab": {
      "provenance": [],
      "authorship_tag": "ABX9TyNrjqh/OA47EqjHTws1Wyhs"
    },
    "kernelspec": {
      "name": "python3",
      "display_name": "Python 3"
    },
    "language_info": {
      "name": "python"
    }
  },
  "cells": [
    {
      "cell_type": "code",
      "execution_count": null,
      "metadata": {
        "id": "9VQGkYlvpLmd"
      },
      "outputs": [],
      "source": [
        "import numpy as np\n",
        "import matplotlib.pyplot as plt\n",
        "from sklearn import datasets"
      ]
    },
    {
      "cell_type": "code",
      "source": [
        "def distance(X, x_test):\n",
        "    return np.sqrt(np.sum((X - x_test) ** 2, axis=1))"
      ],
      "metadata": {
        "id": "cESpWjl0LfcM"
      },
      "execution_count": null,
      "outputs": []
    },
    {
      "cell_type": "code",
      "source": [
        "def knn(X, x_test, y, k):\n",
        "    dist = distance(X, x_test)\n",
        "    nn = []\n",
        "    tmp = max(dist)\n",
        "    \n",
        "    for _ in range(k):\n",
        "        idx = np.argmin(dist)\n",
        "        nn.append([y[idx], dist[idx], *X[idx]])\n",
        "        dist[idx] = tmp\n",
        "    return np.array(nn)"
      ],
      "metadata": {
        "id": "YE30QF5YBaci"
      },
      "execution_count": null,
      "outputs": []
    },
    {
      "cell_type": "code",
      "source": [
        "def ball_tree(X, y, x_test, depth, d, k):\n",
        "    if X.shape[0] < k:\n",
        "        return None\n",
        "    if d == depth:\n",
        "        return knn(X, x_test, y, k)\n",
        "    \n",
        "    mid_point = np.mean(X, axis=0)\n",
        "    x_1 = X[np.argmax(distance(X, mid_point))]\n",
        "    x_2 = X[np.argmax(distance(X, x_1))]\n",
        "\n",
        "    proj = X.dot((x_2 - x_1).T)\n",
        "    x_test_proj = x_test.dot((x_2 - x_1).T)\n",
        "    median_proj = np.median(proj)\n",
        "    \n",
        "    indices = (proj >= median_proj) if x_test_proj >= median_proj else (proj < median_proj)\n",
        "    nn = ball_tree(X[indices], y[indices], x_test, depth, d+1, k)\n",
        "    if nn is None:\n",
        "        return knn(X, x_test, y, k)\n",
        "    \n",
        "    mid_opposite_ball = np.mean(X[~indices], axis=0, keepdims=True)\n",
        "    rad_opposite_ball = np.max(distance(X[~indices], mid_opposite_ball))\n",
        "\n",
        "    if nn[-1, 1] <= (distance(x_test, mid_opposite_ball) - rad_opposite_ball):\n",
        "        return nn\n",
        "    nn_2 = ball_tree(X[~indices], y[~indices], x_test, depth, d+1, k)\n",
        "    if nn_2 is None:\n",
        "        return nn\n",
        "    for i in range(k):\n",
        "        for j in range(k):\n",
        "            if nn[i, 1] > nn_2[j, 1]:\n",
        "                nn[[i]], nn_2[[j]] = nn_2[[j]], nn[[i]]\n",
        "    return nn"
      ],
      "metadata": {
        "id": "MRZyFZqJE2jf"
      },
      "execution_count": null,
      "outputs": []
    },
    {
      "cell_type": "code",
      "source": [
        "iris = datasets.load_iris()\n",
        "X = iris.data[:, 2:]\n",
        "# np.random.seed(42)\n",
        "X += 0.75 * np.random.randn(150, 2) # some noise\n",
        "\n",
        "y = iris.target\n",
        "x_test = np.array([[1.5, 0.5], [3.7, 1.3], [6.5, 2.1], [4.8, 1.7]])\n",
        "#x_test = np.array([[4.14670398, 1.1]])\n",
        "\n",
        "plt.figure(figsize=(11, 9))\n",
        "plt.scatter(X[y == 0, 0], X[y == 0, 1])\n",
        "plt.scatter(X[y == 1, 0], X[y == 1, 1])\n",
        "plt.scatter(X[y == 2, 0], X[y == 2, 1])\n",
        "plt.scatter(x_test[:, 0], x_test[:, 1])\n",
        "\n",
        "for point in x_test:\n",
        "    ans = ball_tree(X, y, point, 5, 1, 3)\n",
        "    print(\"***********************************************\")\n",
        "    print(\"POINT: {}\".format(point))\n",
        "    print(\"NEAREST NEIGHBORS:\\n{}\".format(ans), end='\\n\\n')\n",
        "    print(\"***********************************************\")\n",
        "    plt.scatter(ans[:, 2], ans[:, 3], color='black', s=11)\n",
        "plt.show()"
      ],
      "metadata": {
        "id": "NzbR32kaahBZ",
        "colab": {
          "base_uri": "https://localhost:8080/",
          "height": 1000
        },
        "outputId": "67dc026f-2859-459e-fe13-f6e36069abb6"
      },
      "execution_count": null,
      "outputs": [
        {
          "output_type": "stream",
          "name": "stdout",
          "text": [
            "***********************************************\n",
            "POINT: [1.5 0.5]\n",
            "NEAREST NEIGHBORS:\n",
            "[[0.         0.10779176 1.49172313 0.60747352]\n",
            " [0.         0.11643866 1.60054424 0.44127335]\n",
            " [0.         0.31519105 1.33664505 0.23044377]]\n",
            "\n",
            "***********************************************\n",
            "***********************************************\n",
            "POINT: [3.7 1.3]\n",
            "NEAREST NEIGHBORS:\n",
            "[[1.         0.11625935 3.60886739 1.22781217]\n",
            " [1.         0.18512583 3.54248744 1.39726957]\n",
            " [1.         0.25027585 3.80116475 1.07108147]]\n",
            "\n",
            "***********************************************\n",
            "***********************************************\n",
            "POINT: [6.5 2.1]\n",
            "NEAREST NEIGHBORS:\n",
            "[[2.         0.12969725 6.6287123  2.11595368]\n",
            " [2.         0.14465042 6.39522289 2.00027286]\n",
            " [2.         0.26735922 6.76731457 2.10488601]]\n",
            "\n",
            "***********************************************\n",
            "***********************************************\n",
            "POINT: [4.8 1.7]\n",
            "NEAREST NEIGHBORS:\n",
            "[[2.         0.09734672 4.73438087 1.77190627]\n",
            " [2.         0.10252331 4.7030877  1.733452  ]\n",
            " [1.         0.15800514 4.92043049 1.80228452]]\n",
            "\n",
            "***********************************************\n"
          ]
        },
        {
          "output_type": "display_data",
          "data": {
            "text/plain": [
              "<Figure size 792x648 with 1 Axes>"
            ],
            "image/png": "[encoded data removed]"
          },
          "metadata": {
            "needs_background": "light"
          }
        }
      ]
    },
    {
      "cell_type": "code",
      "source": [],
      "metadata": {
        "id": "OcK8mOwwH_xx"
      },
      "execution_count": null,
      "outputs": []
    }
  ]
}