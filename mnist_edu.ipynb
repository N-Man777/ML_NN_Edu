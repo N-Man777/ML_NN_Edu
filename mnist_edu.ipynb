{
  "cells": [
    {
      "cell_type": "code",
      "execution_count": null,
      "metadata": {
        "id": "bmy6X9428xSJ"
      },
      "outputs": [],
      "source": [
        "import numpy as np\n",
        "import pandas as pd\n",
        "import matplotlib.pyplot as plt"
      ]
    },
    {
      "cell_type": "code",
      "execution_count": null,
      "metadata": {
        "id": "8-64Tvu-86Mc"
      },
      "outputs": [],
      "source": [
        "from sklearn.datasets import fetch_openml"
      ]
    },
    {
      "cell_type": "code",
      "execution_count": null,
      "metadata": {
        "colab": {
          "base_uri": "https://localhost:8080/"
        },
        "id": "fFGeWz0T9E5l",
        "outputId": "e17a62fb-784d-485f-d827-541e63c14089"
      },
      "outputs": [
        {
          "output_type": "execute_result",
          "data": {
            "text/plain": [
              "sklearn.utils.Bunch"
            ]
          },
          "metadata": {},
          "execution_count": 3
        }
      ],
      "source": [
        "mnist = fetch_openml(\"mnist_784\", version=1, as_frame=False)\n",
        "type(mnist) # Аналог словаря"
      ]
    },
    {
      "cell_type": "code",
      "execution_count": null,
      "metadata": {
        "colab": {
          "base_uri": "https://localhost:8080/"
        },
        "id": "K6m4QkaP-CXJ",
        "outputId": "bfa71885-a482-4159-96f3-1216296d38be"
      },
      "outputs": [
        {
          "output_type": "execute_result",
          "data": {
            "text/plain": [
              "dict_keys(['data', 'target', 'frame', 'categories', 'feature_names', 'target_names', 'DESCR', 'details', 'url'])"
            ]
          },
          "metadata": {},
          "execution_count": 4
        }
      ],
      "source": [
        "mnist.keys()"
      ]
    },
    {
      "cell_type": "code",
      "execution_count": null,
      "metadata": {
        "colab": {
          "base_uri": "https://localhost:8080/"
        },
        "id": "hHUkkqsJ-i_n",
        "outputId": "ceb33712-daee-46af-d943-88e64928a291"
      },
      "outputs": [
        {
          "output_type": "execute_result",
          "data": {
            "text/plain": [
              "((70000, 784), (70000,))"
            ]
          },
          "metadata": {},
          "execution_count": 5
        }
      ],
      "source": [
        "X, y = mnist.data, mnist.target\n",
        "X.shape, y.shape"
      ]
    },
    {
      "cell_type": "code",
      "execution_count": null,
      "metadata": {
        "colab": {
          "base_uri": "https://localhost:8080/",
          "height": 265
        },
        "id": "kJpLuC-8-n6J",
        "outputId": "4ab55a47-6f76-4310-d558-4a623fb51588"
      },
      "outputs": [
        {
          "output_type": "execute_result",
          "data": {
            "text/plain": [
              "(-0.5, 27.5, 27.5, -0.5)"
            ]
          },
          "metadata": {},
          "execution_count": 6
        },
        {
          "output_type": "display_data",
          "data": {
            "text/plain": [
              "<Figure size 432x288 with 1 Axes>"
            ],
            "image/png": "[encoded data removed]"
          },
          "metadata": {
            "needs_background": "light"
          }
        }
      ],
      "source": [
        "plt.imshow(X[7].reshape(28, 28), cmap=\"binary\")\n",
        "plt.axis(\"off\")"
      ]
    },
    {
      "cell_type": "code",
      "execution_count": null,
      "metadata": {
        "colab": {
          "base_uri": "https://localhost:8080/",
          "height": 35
        },
        "id": "tpa5iy_3_Wik",
        "outputId": "690ad4e2-efc2-4117-b9b7-1af7c6847f9f"
      },
      "outputs": [
        {
          "output_type": "execute_result",
          "data": {
            "text/plain": [
              "'3'"
            ],
            "application/vnd.google.colaboratory.intrinsic+json": {
              "type": "string"
            }
          },
          "metadata": {},
          "execution_count": 7
        }
      ],
      "source": [
        "y[7]"
      ]
    },
    {
      "cell_type": "code",
      "execution_count": null,
      "metadata": {
        "id": "6otxK3j9AXBt"
      },
      "outputs": [],
      "source": [
        "y = y.astype(np.int32) # т.к. изначально строка"
      ]
    },
    {
      "cell_type": "code",
      "execution_count": null,
      "metadata": {
        "colab": {
          "base_uri": "https://localhost:8080/",
          "height": 758
        },
        "id": "awCTFjZNBMX9",
        "outputId": "29918e05-8885-4fdd-c95b-d57fe57f1054"
      },
      "outputs": [
        {
          "output_type": "display_data",
          "data": {
            "text/plain": [
              "<Figure size 432x288 with 1 Axes>"
            ],
            "image/png": "[encoded data removed]"
          },
          "metadata": {
            "needs_background": "light"
          }
        },
        {
          "output_type": "display_data",
          "data": {
            "text/plain": [
              "<Figure size 432x288 with 1 Axes>"
            ],
            "image/png": "[encoded data removed]"
          },
          "metadata": {
            "needs_background": "light"
          }
        },
        {
          "output_type": "display_data",
          "data": {
            "text/plain": [
              "<Figure size 432x288 with 1 Axes>"
            ],
            "image/png": "[encoded data removed]"
          },
          "metadata": {
            "needs_background": "light"
          }
        }
      ],
      "source": [
        "for i in range(3):\n",
        "    idx = np.random.randint(69999)\n",
        "    plt.imshow(X[idx].reshape((28,28)), cmap='binary')\n",
        "    plt.axis(\"off\")\n",
        "    plt.title(f\"{y[idx]}\")\n",
        "    plt.show()"
      ]
    },
    {
      "cell_type": "code",
      "execution_count": null,
      "metadata": {
        "id": "UZi3ueyeDYxi"
      },
      "outputs": [],
      "source": [
        "X_train, X_test = X[:60000], X[60000:]\n",
        "y_train, y_test = y[:60000], y[60000:] # Разбиваем на обучающее и тестовое множество"
      ]
    },
    {
      "cell_type": "markdown",
      "metadata": {
        "id": "A0h7L7q6FqF3"
      },
      "source": [
        "# Бинарный классификатор"
      ]
    },
    {
      "cell_type": "code",
      "execution_count": null,
      "metadata": {
        "id": "OUL0RoSSEaXc"
      },
      "outputs": [],
      "source": [
        "y_train_7 = (y_train == 7)\n",
        "y_test_7 = (y_test == 7)"
      ]
    },
    {
      "cell_type": "code",
      "execution_count": null,
      "metadata": {
        "id": "GMHp56GlGNI0"
      },
      "outputs": [],
      "source": [
        "from sklearn.linear_model import SGDClassifier"
      ]
    },
    {
      "cell_type": "code",
      "execution_count": null,
      "metadata": {
        "colab": {
          "base_uri": "https://localhost:8080/"
        },
        "id": "XOy1L3oQGeya",
        "outputId": "9564d07c-9064-40be-ee25-70b79bb2ba27"
      },
      "outputs": [
        {
          "output_type": "execute_result",
          "data": {
            "text/plain": [
              "SGDClassifier(random_state=42)"
            ]
          },
          "metadata": {},
          "execution_count": 13
        }
      ],
      "source": [
        "sgd_clf = SGDClassifier(random_state=42)\n",
        "sgd_clf.fit(X_train, y_train_7)"
      ]
    },
    {
      "cell_type": "code",
      "execution_count": null,
      "metadata": {
        "colab": {
          "base_uri": "https://localhost:8080/"
        },
        "id": "24CNZ1wFGzic",
        "outputId": "bdd688f9-f770-4827-fd1f-0ae5b1989f43"
      },
      "outputs": [
        {
          "output_type": "execute_result",
          "data": {
            "text/plain": [
              "array([ True])"
            ]
          },
          "metadata": {},
          "execution_count": 14
        }
      ],
      "source": [
        "sgd_clf.predict([X_train[15]])"
      ]
    },
    {
      "cell_type": "code",
      "execution_count": null,
      "metadata": {
        "colab": {
          "base_uri": "https://localhost:8080/"
        },
        "id": "LYH4ICP7HIyN",
        "outputId": "f6d0a645-59dd-4041-dd6e-e0b46b9ad6b0"
      },
      "outputs": [
        {
          "output_type": "execute_result",
          "data": {
            "text/plain": [
              "7"
            ]
          },
          "metadata": {},
          "execution_count": 15
        }
      ],
      "source": [
        "y[15]"
      ]
    },
    {
      "cell_type": "code",
      "execution_count": null,
      "metadata": {
        "id": "qlL_kdi_IAJn"
      },
      "outputs": [],
      "source": [
        "from sklearn.metrics import accuracy_score"
      ]
    },
    {
      "cell_type": "code",
      "execution_count": null,
      "metadata": {
        "colab": {
          "base_uri": "https://localhost:8080/"
        },
        "id": "jx9L6D4SIBUm",
        "outputId": "cbde0aeb-88b7-418f-bb5a-8e0a2d98be55"
      },
      "outputs": [
        {
          "output_type": "execute_result",
          "data": {
            "text/plain": [
              "0.9856833333333334"
            ]
          },
          "metadata": {},
          "execution_count": 17
        }
      ],
      "source": [
        "pred = sgd_clf.predict(X_train)\n",
        "accuracy_score(y_train_7, pred)"
      ]
    },
    {
      "cell_type": "code",
      "execution_count": null,
      "metadata": {
        "id": "BKSEu4NvILLe"
      },
      "outputs": [],
      "source": [
        "from sklearn.model_selection import StratifiedKFold"
      ]
    },
    {
      "cell_type": "code",
      "execution_count": null,
      "metadata": {
        "colab": {
          "base_uri": "https://localhost:8080/"
        },
        "id": "Xuj8ZNJwIcpC",
        "outputId": "b78cd659-0143-434f-b8f5-7465db5ddac3"
      },
      "outputs": [
        {
          "output_type": "stream",
          "name": "stdout",
          "text": [
            "Built in function accuracy: 0.9803333333333333\n",
            "Built in function accuracy: 0.9825\n",
            "Built in function accuracy: 0.9733333333333334\n",
            "Built in function accuracy: 0.97725\n",
            "Built in function accuracy: 0.9763333333333334\n"
          ]
        }
      ],
      "source": [
        "# Собственный KFold валидатор\n",
        "strat_k_fold = StratifiedKFold(5)\n",
        "for tr_idx, tst_idx in strat_k_fold.split(X_train, y_train_7):\n",
        "    sgd_clf = SGDClassifier(random_state=42)\n",
        "    X_train_folds = X_train[tr_idx]\n",
        "    y_train_folds = y_train_7[tr_idx]\n",
        "    X_val_folds = X_train[tst_idx]\n",
        "    y_val_folds = y_train_7[tst_idx]\n",
        "    sgd_clf.fit(X_train_folds, y_train_folds)\n",
        "    pred = sgd_clf.predict(X_val_folds)\n",
        "    print(\"Built in function accuracy: {}\".format(accuracy_score(y_val_folds, pred)))"
      ]
    },
    {
      "cell_type": "code",
      "execution_count": null,
      "metadata": {
        "id": "VSE1b-SET0tt"
      },
      "outputs": [],
      "source": [
        "from sklearn.model_selection import cross_val_score"
      ]
    },
    {
      "cell_type": "code",
      "execution_count": null,
      "metadata": {
        "colab": {
          "base_uri": "https://localhost:8080/"
        },
        "id": "mX7HffJqVFsG",
        "outputId": "23e99524-9d66-4ad4-e759-71638a364002"
      },
      "outputs": [
        {
          "output_type": "execute_result",
          "data": {
            "text/plain": [
              "array([0.98033333, 0.9825    , 0.97333333, 0.97725   , 0.97633333])"
            ]
          },
          "metadata": {},
          "execution_count": 21
        }
      ],
      "source": [
        "cross_val_score(SGDClassifier(random_state=42), X_train, y_train_7, scoring=\"accuracy\", cv=5)"
      ]
    },
    {
      "cell_type": "code",
      "execution_count": null,
      "metadata": {
        "colab": {
          "base_uri": "https://localhost:8080/"
        },
        "id": "DgzkMnaoVkgN",
        "outputId": "d476e76b-6ad1-4dc2-df83-50063221bc2b"
      },
      "outputs": [
        {
          "output_type": "execute_result",
          "data": {
            "text/plain": [
              "0.8955833333333333"
            ]
          },
          "metadata": {},
          "execution_count": 22
        }
      ],
      "source": [
        "zeros_pred = np.zeros(y_train_7.shape[0])\n",
        "accuracy_score(y_train_7, zeros_pred)\n",
        "# Из результата видно, что accuracy - не лучшая оценка для проверки модели."
      ]
    },
    {
      "cell_type": "code",
      "execution_count": null,
      "metadata": {
        "id": "cJAN4UBtXs1Z"
      },
      "outputs": [],
      "source": [
        "from sklearn.metrics import confusion_matrix\n",
        "from sklearn.metrics import plot_confusion_matrix\n",
        "from sklearn.model_selection import cross_val_predict"
      ]
    },
    {
      "cell_type": "code",
      "execution_count": null,
      "metadata": {
        "colab": {
          "base_uri": "https://localhost:8080/"
        },
        "id": "RdlqM56wYJUe",
        "outputId": "254098d9-eaca-42fe-e09f-c3e558965d41"
      },
      "outputs": [
        {
          "output_type": "execute_result",
          "data": {
            "text/plain": [
              "array([[53180,   555],\n",
              "       [  768,  5497]])"
            ]
          },
          "metadata": {},
          "execution_count": 24
        }
      ],
      "source": [
        "pred = cross_val_predict(SGDClassifier(random_state=42), X_train, y_train_7, cv=5)\n",
        "confusion_matrix(y_train_7, pred, labels=[0,1])"
      ]
    },
    {
      "cell_type": "code",
      "execution_count": null,
      "metadata": {
        "id": "B7r7D6RjbMrQ"
      },
      "outputs": [],
      "source": [
        "from sklearn.metrics import precision_score, recall_score"
      ]
    },
    {
      "cell_type": "code",
      "execution_count": null,
      "metadata": {
        "colab": {
          "base_uri": "https://localhost:8080/"
        },
        "id": "fyyBUTDdcfE_",
        "outputId": "749050e1-d359-41f0-ce48-f88e5991fc04"
      },
      "outputs": [
        {
          "output_type": "execute_result",
          "data": {
            "text/plain": [
              "0.9082947785855915"
            ]
          },
          "metadata": {},
          "execution_count": 26
        }
      ],
      "source": [
        "precision_score(y_train_7, pred) # Классификатор определяет 7-ку с 90% вероятностью\n",
        "# Отображает точность прогнозов как отношение TP / (TP + FP).\n",
        "# Точность важна в тех случаях, когда важно исключить ошибки ценой количества\n",
        "# (Алгоритм выдаёт только правильные результаты, жертуя их количеством)"
      ]
    },
    {
      "cell_type": "code",
      "execution_count": null,
      "metadata": {
        "colab": {
          "base_uri": "https://localhost:8080/"
        },
        "id": "uotBq-X6dCpg",
        "outputId": "1a941380-a5f4-43f0-f6ba-51e5ae21a545"
      },
      "outputs": [
        {
          "output_type": "execute_result",
          "data": {
            "text/plain": [
              "0.877414205905826"
            ]
          },
          "metadata": {},
          "execution_count": 27
        }
      ],
      "source": [
        "recall_score(y_train_7, pred) # Классификатор определяет 87% 7-ок \n",
        "# Отображает полноту прогнозов как отношение TP / (TP + FN)\n",
        "# Или же способность модели количественно захватить больше правильных, жертвуя\n",
        "# точностью\n"
      ]
    },
    {
      "cell_type": "code",
      "execution_count": null,
      "metadata": {
        "id": "qG7i5uyCdKvj"
      },
      "outputs": [],
      "source": [
        "from sklearn.metrics import f1_score"
      ]
    },
    {
      "cell_type": "code",
      "execution_count": null,
      "metadata": {
        "colab": {
          "base_uri": "https://localhost:8080/"
        },
        "id": "njX0uRm4rvRr",
        "outputId": "acb90b6c-abbb-4242-9cf2-bc492ef8ac24"
      },
      "outputs": [
        {
          "output_type": "execute_result",
          "data": {
            "text/plain": [
              "0.8925874807177073"
            ]
          },
          "metadata": {},
          "execution_count": 29
        }
      ],
      "source": [
        "f1_score(y_train_7, pred) # Среднее гармоническое точности и полноты\n",
        "#Метрика F1 придаёт низким значениям больший вес\n",
        "#Поэтому оценка будет высока, когда и точность, и общность высоки одновременно"
      ]
    },
    {
      "cell_type": "code",
      "execution_count": null,
      "metadata": {
        "colab": {
          "base_uri": "https://localhost:8080/"
        },
        "id": "i3RTuV9pr76C",
        "outputId": "3eafc570-045d-4a78-f9f0-15374dfcec6b"
      },
      "outputs": [
        {
          "output_type": "execute_result",
          "data": {
            "text/plain": [
              "array([5004.34292937])"
            ]
          },
          "metadata": {},
          "execution_count": 30
        }
      ],
      "source": [
        "y_scores = sgd_clf.decision_function([X_train[15]]) # выдаёт сумму очков от модели\n",
        "y_scores"
      ]
    },
    {
      "cell_type": "code",
      "execution_count": null,
      "metadata": {
        "colab": {
          "base_uri": "https://localhost:8080/"
        },
        "id": "HZpoKZyNtvNK",
        "outputId": "44f820e6-aaf2-47e3-8b7e-a643363bb2ca"
      },
      "outputs": [
        {
          "output_type": "execute_result",
          "data": {
            "text/plain": [
              "(True, True)"
            ]
          },
          "metadata": {},
          "execution_count": 31
        }
      ],
      "source": [
        "threshold = 0\n",
        "some_dig_pred = bool(y_scores > threshold)\n",
        "some_dig_pred, y_train_7[15]\n",
        "#Устанавливаем пороговое значение, по которому классификатор будет определять\n",
        "#принадлежность к классу"
      ]
    },
    {
      "cell_type": "code",
      "execution_count": null,
      "metadata": {
        "colab": {
          "base_uri": "https://localhost:8080/"
        },
        "id": "GhNuG6MluMWt",
        "outputId": "eedceee3-7c2a-45f6-934d-a8504c37129a"
      },
      "outputs": [
        {
          "output_type": "execute_result",
          "data": {
            "text/plain": [
              "array([-13343.60257777])"
            ]
          },
          "metadata": {},
          "execution_count": 32
        }
      ],
      "source": [
        "y_scores = sgd_clf.decision_function([X_train[0]])\n",
        "y_scores"
      ]
    },
    {
      "cell_type": "code",
      "execution_count": null,
      "metadata": {
        "colab": {
          "base_uri": "https://localhost:8080/"
        },
        "id": "MLFvOPhBvTY1",
        "outputId": "9e565052-f98e-4baa-c8f0-308622dbeead"
      },
      "outputs": [
        {
          "output_type": "execute_result",
          "data": {
            "text/plain": [
              "(False, False)"
            ]
          },
          "metadata": {},
          "execution_count": 33
        }
      ],
      "source": [
        "some_dig_pred = bool(y_scores > threshold)\n",
        "some_dig_pred, y_train_7[0]"
      ]
    },
    {
      "cell_type": "code",
      "execution_count": null,
      "metadata": {
        "id": "O0bxyjc0vepU"
      },
      "outputs": [],
      "source": [
        "y_scores = cross_val_predict(SGDClassifier(random_state=42), X_train, y_train_7,\n",
        "                             method=\"decision_function\", cv=3)\n",
        "# Изменяем метод с предиктов на сумму очков"
      ]
    },
    {
      "cell_type": "code",
      "execution_count": null,
      "metadata": {
        "id": "oe84shBJwK0E"
      },
      "outputs": [],
      "source": [
        "from sklearn.metrics import precision_recall_curve"
      ]
    },
    {
      "cell_type": "code",
      "execution_count": null,
      "metadata": {
        "id": "Zs1MuE7owQGq"
      },
      "outputs": [],
      "source": [
        "precision, recall, threshold = precision_recall_curve(y_train_7, y_scores)"
      ]
    },
    {
      "cell_type": "code",
      "execution_count": null,
      "metadata": {
        "id": "mUMSXIIpxcdx"
      },
      "outputs": [],
      "source": [
        "def plot_decision_recall_threshold(precisions, recalls, thresholds, idx_prec = None):\n",
        "    \"\"\"Функция вычерчивает график точности и полноты в зависимости от порога\"\"\"\n",
        "    plt.plot(thresholds, precisions[:-1], label=\"Prec\")\n",
        "    plt.plot(thresholds, recalls[:-1], label=\"Rec\")\n",
        "    if idx_prec is not None:\n",
        "        plt.scatter((thresholds[idx_prec], thresholds[idx_prec]), (precisions[idx_prec], recalls[idx_prec]))\n",
        "    plt.title(\"График зависимостей точности, полноты от порога\")\n",
        "    plt.legend()\n"
      ]
    },
    {
      "cell_type": "code",
      "execution_count": null,
      "metadata": {
        "colab": {
          "base_uri": "https://localhost:8080/",
          "height": 281
        },
        "id": "ATN5qjeryaEs",
        "outputId": "03ce76f7-ba52-4175-f91b-a74355239a92"
      },
      "outputs": [
        {
          "output_type": "display_data",
          "data": {
            "text/plain": [
              "<Figure size 432x288 with 1 Axes>"
            ],
            "image/png": "[encoded data removed]"
          },
          "metadata": {
            "needs_background": "light"
          }
        }
      ],
      "source": [
        "plot_decision_recall_threshold(precision, recall, threshold)"
      ]
    },
    {
      "cell_type": "code",
      "execution_count": null,
      "metadata": {
        "colab": {
          "base_uri": "https://localhost:8080/",
          "height": 282
        },
        "id": "tbizc5BFDHgV",
        "outputId": "44fc4325-0ac0-4f3d-8f06-3dcf3fd814d3"
      },
      "outputs": [
        {
          "output_type": "execute_result",
          "data": {
            "text/plain": [
              "[<matplotlib.lines.Line2D at 0x7fa2e57aead0>]"
            ]
          },
          "metadata": {},
          "execution_count": 39
        },
        {
          "output_type": "display_data",
          "data": {
            "text/plain": [
              "<Figure size 432x288 with 1 Axes>"
            ],
            "image/png": "[encoded data removed]"
          },
          "metadata": {
            "needs_background": "light"
          }
        }
      ],
      "source": [
        "plt.plot(recall, precision) # График зависимости точности от полноты"
      ]
    },
    {
      "cell_type": "code",
      "execution_count": null,
      "metadata": {
        "colab": {
          "base_uri": "https://localhost:8080/"
        },
        "id": "vQeQMtHXygZv",
        "outputId": "2bfa55e6-7d2c-449a-ea44-ea80dd837b1e"
      },
      "outputs": [
        {
          "output_type": "stream",
          "name": "stdout",
          "text": [
            "49589\n",
            "Пороговое значение для заданной точности: 2288.724768166237\n",
            "Значение точности: 0.9000864304235091\n",
            "Значение полноты: 0.8311252992817239\n"
          ]
        }
      ],
      "source": [
        "idx_prec = np.argmax(precision >= 0.9) # Первый индекс в котором точность приблизительно равно 90%\n",
        "print(f\"{idx_prec}\")\n",
        "thres_90 = threshold[idx_prec] # Найдём пороговое значение, для такой точности\n",
        "print(\"Пороговое значение для заданной точности: {}\".format(thres_90))\n",
        "print(\"Значение точности: {}\".format(precision[idx_prec]))\n",
        "print(\"Значение полноты: {}\".format(recall[idx_prec]))"
      ]
    },
    {
      "cell_type": "code",
      "execution_count": null,
      "metadata": {
        "colab": {
          "base_uri": "https://localhost:8080/",
          "height": 281
        },
        "id": "AGT4TKhJ43B9",
        "outputId": "4c59c012-86f7-4f23-b730-def01ecc3bbf"
      },
      "outputs": [
        {
          "output_type": "display_data",
          "data": {
            "text/plain": [
              "<Figure size 432x288 with 1 Axes>"
            ],
            "image/png": "[encoded data removed]"
          },
          "metadata": {
            "needs_background": "light"
          }
        }
      ],
      "source": [
        "plot_decision_recall_threshold(precision, recall, threshold, idx_prec)"
      ]
    },
    {
      "cell_type": "code",
      "execution_count": null,
      "metadata": {
        "colab": {
          "base_uri": "https://localhost:8080/"
        },
        "id": "ltPWPTUU-h3n",
        "outputId": "e1161c6d-1d78-470e-80a6-a284b4feee50"
      },
      "outputs": [
        {
          "output_type": "execute_result",
          "data": {
            "text/plain": [
              "0.9727333333333333"
            ]
          },
          "metadata": {},
          "execution_count": 42
        }
      ],
      "source": [
        "y_train_pred_90 = (y_scores >= thres_90).astype('bool') # Предикты на основе порога\n",
        "accuracy_score(y_train_7, y_train_pred_90)"
      ]
    },
    {
      "cell_type": "code",
      "execution_count": null,
      "metadata": {
        "id": "QK7u8GpkCjg8"
      },
      "outputs": [],
      "source": [
        "from sklearn.metrics import roc_curve"
      ]
    },
    {
      "cell_type": "code",
      "execution_count": null,
      "metadata": {
        "id": "xPKiOh8IEVvw"
      },
      "outputs": [],
      "source": [
        "fpr, tpr, threshold = roc_curve(y_train_7, y_scores)"
      ]
    },
    {
      "cell_type": "code",
      "execution_count": null,
      "metadata": {
        "colab": {
          "base_uri": "https://localhost:8080/",
          "height": 282
        },
        "id": "jD7map2_EgyC",
        "outputId": "87790d7b-74c5-42d6-ab9e-5e45bc9033b7"
      },
      "outputs": [
        {
          "output_type": "execute_result",
          "data": {
            "text/plain": [
              "[<matplotlib.lines.Line2D at 0x7fa2e563dcd0>]"
            ]
          },
          "metadata": {},
          "execution_count": 45
        },
        {
          "output_type": "display_data",
          "data": {
            "text/plain": [
              "<Figure size 432x288 with 1 Axes>"
            ],
            "image/png": "[encoded data removed]"
          },
          "metadata": {
            "needs_background": "light"
          }
        }
      ],
      "source": [
        "plt.plot(fpr, tpr)"
      ]
    },
    {
      "cell_type": "code",
      "execution_count": null,
      "metadata": {
        "id": "k2N_UKrSEyXt"
      },
      "outputs": [],
      "source": [
        "from sklearn.metrics import roc_auc_score"
      ]
    },
    {
      "cell_type": "code",
      "execution_count": null,
      "metadata": {
        "colab": {
          "base_uri": "https://localhost:8080/"
        },
        "id": "Y341pr9eE955",
        "outputId": "fbdc163a-ca25-4bc0-ad4b-9a7006ad3217"
      },
      "outputs": [
        {
          "output_type": "execute_result",
          "data": {
            "text/plain": [
              "0.986670497551944"
            ]
          },
          "metadata": {},
          "execution_count": 47
        }
      ],
      "source": [
        "roc_auc_score(y_train_7, y_scores) # Площадь под кривой (выше), чем ближе к 1, тем лучше"
      ]
    },
    {
      "cell_type": "code",
      "execution_count": null,
      "metadata": {
        "id": "QRXCI2DiFDUw"
      },
      "outputs": [],
      "source": [
        "from sklearn.ensemble import RandomForestClassifier"
      ]
    },
    {
      "cell_type": "code",
      "execution_count": null,
      "metadata": {
        "colab": {
          "base_uri": "https://localhost:8080/"
        },
        "id": "CEpdoZ7MFTFp",
        "outputId": "854f842b-c9bd-4863-89fc-bd194d9fc7a8"
      },
      "outputs": [
        {
          "output_type": "execute_result",
          "data": {
            "text/plain": [
              "1.0"
            ]
          },
          "metadata": {},
          "execution_count": 49
        }
      ],
      "source": [
        "rnd_clf = RandomForestClassifier(random_state=42)\n",
        "rnd_clf.fit(X_train, y_train_7)\n",
        "accuracy_score(y_train_7, rnd_clf.predict(X_train))"
      ]
    },
    {
      "cell_type": "code",
      "execution_count": null,
      "metadata": {
        "colab": {
          "base_uri": "https://localhost:8080/"
        },
        "id": "1hUjBX7UGA2l",
        "outputId": "d158d82e-c1c2-479e-8756-d91fe6343256"
      },
      "outputs": [
        {
          "output_type": "execute_result",
          "data": {
            "text/plain": [
              "array([[0.98, 0.02],\n",
              "       [1.  , 0.  ],\n",
              "       [0.89, 0.11],\n",
              "       [1.  , 0.  ],\n",
              "       [0.95, 0.05]])"
            ]
          },
          "metadata": {},
          "execution_count": 50
        }
      ],
      "source": [
        "forest_clf = RandomForestClassifier(random_state=42)\n",
        "rnd_prob = cross_val_predict(forest_clf, X_train, y_train_7, cv=3, method=\"predict_proba\")\n",
        "rnd_prob[:5]"
      ]
    },
    {
      "cell_type": "code",
      "execution_count": null,
      "metadata": {
        "id": "gd_REFdbGu-h"
      },
      "outputs": [],
      "source": [
        "fpr_frst, tpr_frst, thres = roc_curve(y_train_7, rnd_prob[:, 1])"
      ]
    },
    {
      "cell_type": "code",
      "execution_count": null,
      "metadata": {
        "colab": {
          "base_uri": "https://localhost:8080/",
          "height": 282
        },
        "id": "O9ehmUKdKnyM",
        "outputId": "9fe3453a-cb2d-4f8d-cab4-ad9de6c8fbf1"
      },
      "outputs": [
        {
          "output_type": "execute_result",
          "data": {
            "text/plain": [
              "<matplotlib.legend.Legend at 0x7fa2e4f4e290>"
            ]
          },
          "metadata": {},
          "execution_count": 52
        },
        {
          "output_type": "display_data",
          "data": {
            "text/plain": [
              "<Figure size 432x288 with 1 Axes>"
            ],
            "image/png": "[encoded data removed]"
          },
          "metadata": {
            "needs_background": "light"
          }
        }
      ],
      "source": [
        "plt.plot(fpr, tpr, label=\"SGD\")\n",
        "plt.plot(fpr_frst, tpr_frst, label = \"rnd_forest\")\n",
        "plt.legend()"
      ]
    },
    {
      "cell_type": "code",
      "execution_count": null,
      "metadata": {
        "colab": {
          "base_uri": "https://localhost:8080/"
        },
        "id": "orH-0w6NK-8s",
        "outputId": "ffc933e6-d397-4499-af13-a61596cb723c"
      },
      "outputs": [
        {
          "output_type": "execute_result",
          "data": {
            "text/plain": [
              "0.9982747530426836"
            ]
          },
          "metadata": {},
          "execution_count": 53
        }
      ],
      "source": [
        "roc_auc_score(y_train_7, rnd_prob[:,1])"
      ]
    },
    {
      "cell_type": "code",
      "execution_count": null,
      "metadata": {
        "colab": {
          "base_uri": "https://localhost:8080/"
        },
        "id": "8996wR4qRy7a",
        "outputId": "688e0de4-dbcb-4744-d882-f331bbf67139"
      },
      "outputs": [
        {
          "output_type": "execute_result",
          "data": {
            "text/plain": [
              "0.9867364746945899"
            ]
          },
          "metadata": {},
          "execution_count": 54
        }
      ],
      "source": [
        "y_train_pred_forest = cross_val_predict(RandomForestClassifier(random_state=42), X_train, y_train_7, cv=3)\n",
        "precision_score(y_train_7, y_train_pred_forest)"
      ]
    },
    {
      "cell_type": "code",
      "execution_count": null,
      "metadata": {
        "colab": {
          "base_uri": "https://localhost:8080/"
        },
        "id": "xjs_cDePSWx9",
        "outputId": "1f559d8b-b226-46c3-9c45-6251f0dfbb64"
      },
      "outputs": [
        {
          "output_type": "execute_result",
          "data": {
            "text/plain": [
              "0.9024740622505986"
            ]
          },
          "metadata": {},
          "execution_count": 55
        }
      ],
      "source": [
        "recall_score(y_train_7, y_train_pred_forest)"
      ]
    },
    {
      "cell_type": "markdown",
      "metadata": {
        "id": "5AH_4NZLsGsI"
      },
      "source": [
        "# Многоклассовая классификация  \n",
        "Разичают более 2 классов"
      ]
    },
    {
      "cell_type": "code",
      "execution_count": null,
      "metadata": {
        "id": "sJS6sl0xSbwh"
      },
      "outputs": [],
      "source": [
        "from sklearn.svm import SVC"
      ]
    },
    {
      "cell_type": "code",
      "execution_count": null,
      "metadata": {
        "colab": {
          "base_uri": "https://localhost:8080/"
        },
        "id": "sfr8njVQvZdU",
        "outputId": "9a1db60a-a4aa-4c60-ad49-a4ca27a0170c"
      },
      "outputs": [
        {
          "output_type": "execute_result",
          "data": {
            "text/plain": [
              "array([7], dtype=int32)"
            ]
          },
          "metadata": {},
          "execution_count": 57
        }
      ],
      "source": [
        "svm_clf = SVC()\n",
        "svm_clf.fit(X_train[:1000], y_train[:1000])\n",
        "svm_clf.predict([X_train[15]]) # предикт 7"
      ]
    },
    {
      "cell_type": "code",
      "execution_count": null,
      "metadata": {
        "colab": {
          "base_uri": "https://localhost:8080/"
        },
        "id": "uOt4Ba3rwb-x",
        "outputId": "9af4afd8-df09-4f7e-fd83-df281eddb158"
      },
      "outputs": [
        {
          "output_type": "execute_result",
          "data": {
            "text/plain": [
              "array([[ 3.7729373 , -0.28076009,  2.77415891,  1.72592896,  7.2279545 ,\n",
              "         5.83895284,  0.7133311 ,  9.3066972 ,  4.79191747,  8.30085892]])"
            ]
          },
          "metadata": {},
          "execution_count": 58
        }
      ],
      "source": [
        "some_digit_scores=svm_clf.decision_function([X_train[15]]) # получим очки предиктов\n",
        "some_digit_scores"
      ]
    },
    {
      "cell_type": "code",
      "execution_count": null,
      "metadata": {
        "colab": {
          "base_uri": "https://localhost:8080/"
        },
        "id": "YT6ln9vPwrF3",
        "outputId": "632eaea5-109b-4c32-a136-c1d020593a86"
      },
      "outputs": [
        {
          "output_type": "execute_result",
          "data": {
            "text/plain": [
              "7"
            ]
          },
          "metadata": {},
          "execution_count": 59
        }
      ],
      "source": [
        "np.argmax(some_digit_scores) # наибольшее значение под 7 индексом"
      ]
    },
    {
      "cell_type": "code",
      "execution_count": null,
      "metadata": {
        "colab": {
          "base_uri": "https://localhost:8080/"
        },
        "id": "GM622b1sxDjS",
        "outputId": "0c7f6144-80a2-488d-c953-e509d691b441"
      },
      "outputs": [
        {
          "output_type": "execute_result",
          "data": {
            "text/plain": [
              "array([0, 1, 2, 3, 4, 5, 6, 7, 8, 9], dtype=int32)"
            ]
          },
          "metadata": {},
          "execution_count": 60
        }
      ],
      "source": [
        "svm_clf.classes_ # под 7 индексом значение 7"
      ]
    },
    {
      "cell_type": "code",
      "execution_count": null,
      "metadata": {
        "colab": {
          "base_uri": "https://localhost:8080/",
          "height": 265
        },
        "id": "DpF4kpmnzGZn",
        "outputId": "27ac0ba6-fca3-4a83-b554-355f88c4e650"
      },
      "outputs": [
        {
          "output_type": "execute_result",
          "data": {
            "text/plain": [
              "(-0.5, 27.5, 27.5, -0.5)"
            ]
          },
          "metadata": {},
          "execution_count": 61
        },
        {
          "output_type": "display_data",
          "data": {
            "text/plain": [
              "<Figure size 432x288 with 1 Axes>"
            ],
            "image/png": "[encoded data removed]"
          },
          "metadata": {
            "needs_background": "light"
          }
        }
      ],
      "source": [
        "plt.imshow(X_train[15].reshape(28, 28), cmap='binary')\n",
        "plt.axis(\"off\")"
      ]
    },
    {
      "cell_type": "code",
      "execution_count": null,
      "metadata": {
        "id": "rCevm6idzV5o"
      },
      "outputs": [],
      "source": [
        "from sklearn.multiclass import OneVsRestClassifier # Обучается n классификаторов, резалт - наибольший балл"
      ]
    },
    {
      "cell_type": "code",
      "execution_count": null,
      "metadata": {
        "colab": {
          "base_uri": "https://localhost:8080/"
        },
        "id": "cvDpkXHIGt_j",
        "outputId": "bb3ac281-9ede-402b-f82c-a6d733979727"
      },
      "outputs": [
        {
          "output_type": "execute_result",
          "data": {
            "text/plain": [
              "OneVsRestClassifier(estimator=SVC(random_state=42))"
            ]
          },
          "metadata": {},
          "execution_count": 63
        }
      ],
      "source": [
        "ovr_clf = OneVsRestClassifier(SVC(random_state=42))\n",
        "ovr_clf.fit(X_train[:1000], y_train[:1000])"
      ]
    },
    {
      "cell_type": "code",
      "execution_count": null,
      "metadata": {
        "colab": {
          "base_uri": "https://localhost:8080/"
        },
        "id": "xGr7nJ4MHH48",
        "outputId": "24f64f44-a711-49e6-b1d9-ade0fb0ba451"
      },
      "outputs": [
        {
          "output_type": "execute_result",
          "data": {
            "text/plain": [
              "array([7], dtype=int32)"
            ]
          },
          "metadata": {},
          "execution_count": 64
        }
      ],
      "source": [
        "ovr_clf.predict([X_train[15]])"
      ]
    },
    {
      "cell_type": "code",
      "execution_count": null,
      "metadata": {
        "colab": {
          "base_uri": "https://localhost:8080/"
        },
        "id": "e1EucsISHSWq",
        "outputId": "8f2957ea-e335-44e6-b2dd-2f884d6b3753"
      },
      "outputs": [
        {
          "output_type": "execute_result",
          "data": {
            "text/plain": [
              "array([[-1.21043017, -1.69873115, -1.75653909, -1.80833753, -1.1918236 ,\n",
              "        -1.27156912, -1.83613816,  0.90220065, -1.33875738, -0.7918755 ]])"
            ]
          },
          "metadata": {},
          "execution_count": 65
        }
      ],
      "source": [
        "ovr_clf.decision_function([X_train[15]])"
      ]
    },
    {
      "cell_type": "code",
      "execution_count": null,
      "metadata": {
        "colab": {
          "base_uri": "https://localhost:8080/"
        },
        "id": "gHlpe5yWHcUs",
        "outputId": "86c15c8f-e561-4093-f0d4-39c507ebaec6"
      },
      "outputs": [
        {
          "output_type": "stream",
          "name": "stdout",
          "text": [
            "Индекс макс. элемента: 7\n",
            "Классы: [0 1 2 3 4 5 6 7 8 9]\n"
          ]
        }
      ],
      "source": [
        "print(\"Индекс макс. элемента: {}\".format(np.argmax(ovr_clf.decision_function([X_train[15]]))))\n",
        "print(\"Классы: {}\".format(ovr_clf.classes_))"
      ]
    },
    {
      "cell_type": "code",
      "execution_count": null,
      "metadata": {
        "id": "EYvr3_ikHj1P"
      },
      "outputs": [],
      "source": [
        "from sklearn.multiclass import OneVsOneClassifier"
      ]
    },
    {
      "cell_type": "code",
      "execution_count": null,
      "metadata": {
        "colab": {
          "base_uri": "https://localhost:8080/"
        },
        "id": "e30wfLupLC7k",
        "outputId": "5590acaf-5195-4c67-c9c1-5fd427a3b35c"
      },
      "outputs": [
        {
          "output_type": "execute_result",
          "data": {
            "text/plain": [
              "OneVsOneClassifier(estimator=SVC(random_state=42))"
            ]
          },
          "metadata": {},
          "execution_count": 68
        }
      ],
      "source": [
        "ono_clf = OneVsOneClassifier(SVC(random_state=42))\n",
        "ono_clf.fit(X_train[:1000], y_train[:1000])"
      ]
    },
    {
      "cell_type": "code",
      "execution_count": null,
      "metadata": {
        "colab": {
          "base_uri": "https://localhost:8080/"
        },
        "id": "zshGqVQXLaxP",
        "outputId": "354a42c9-b34a-4867-ccc5-5bebaa947ddc"
      },
      "outputs": [
        {
          "output_type": "execute_result",
          "data": {
            "text/plain": [
              "array([7], dtype=int32)"
            ]
          },
          "metadata": {},
          "execution_count": 69
        }
      ],
      "source": [
        "ono_clf.predict([X_train[15]])"
      ]
    },
    {
      "cell_type": "code",
      "execution_count": null,
      "metadata": {
        "colab": {
          "base_uri": "https://localhost:8080/"
        },
        "id": "sx0XnzwRLeFc",
        "outputId": "b3b0d8db-6c55-42ec-d994-8fcb57127a8b"
      },
      "outputs": [
        {
          "output_type": "execute_result",
          "data": {
            "text/plain": [
              "array([[ 3.77495038, -0.27873267,  2.7712187 ,  1.72570399,  7.2291282 ,\n",
              "         5.84558667,  0.71339197,  9.30634409,  4.7939614 ,  8.30027674]])"
            ]
          },
          "metadata": {},
          "execution_count": 70
        }
      ],
      "source": [
        "ono_clf.decision_function([X_train[15]])"
      ]
    },
    {
      "cell_type": "code",
      "execution_count": null,
      "metadata": {
        "colab": {
          "base_uri": "https://localhost:8080/"
        },
        "id": "GYfl9ZSCLlTK",
        "outputId": "a141087e-06b6-4b39-d80c-ddec4039468e"
      },
      "outputs": [
        {
          "output_type": "stream",
          "name": "stdout",
          "text": [
            "Индекс макс. элемента: 7\n",
            "Классы: [0 1 2 3 4 5 6 7 8 9]\n"
          ]
        }
      ],
      "source": [
        "print(\"Индекс макс. элемента: {}\".format(np.argmax(ono_clf.decision_function([X_train[15]]))))\n",
        "print(\"Классы: {}\".format(ono_clf.classes_))"
      ]
    },
    {
      "cell_type": "code",
      "execution_count": null,
      "metadata": {
        "id": "bO48Edq9LsK4",
        "colab": {
          "base_uri": "https://localhost:8080/"
        },
        "outputId": "5bfe5d6e-cd8b-443d-f168-343973d1257b"
      },
      "outputs": [
        {
          "output_type": "execute_result",
          "data": {
            "text/plain": [
              "SGDClassifier(random_state=42)"
            ]
          },
          "metadata": {},
          "execution_count": 72
        }
      ],
      "source": [
        "sgd_clf = SGDClassifier(random_state=42) # Алгоритм на основе градиента способен предиктить значения без обучения множества 2-ых классификаторов\n",
        "sgd_clf.fit(X_train, y_train)"
      ]
    },
    {
      "cell_type": "code",
      "execution_count": null,
      "metadata": {
        "id": "bNg6fju7Nb5M",
        "colab": {
          "base_uri": "https://localhost:8080/"
        },
        "outputId": "150915e3-0cff-4727-c70d-301b20ff396e"
      },
      "outputs": [
        {
          "output_type": "execute_result",
          "data": {
            "text/plain": [
              "array([7], dtype=int32)"
            ]
          },
          "metadata": {},
          "execution_count": 73
        }
      ],
      "source": [
        "sgd_clf.predict([X_train[15]])"
      ]
    },
    {
      "cell_type": "code",
      "execution_count": null,
      "metadata": {
        "id": "VJigj96GNgqz",
        "colab": {
          "base_uri": "https://localhost:8080/"
        },
        "outputId": "fcac7975-ffe4-47ec-8af0-45cf4098e7d8"
      },
      "outputs": [
        {
          "output_type": "execute_result",
          "data": {
            "text/plain": [
              "array([[-21644.21154705, -30813.5490348 , -24237.31532374,\n",
              "         -9608.2729414 , -12980.58270687,  -7511.22550981,\n",
              "        -39999.81058079,   6397.47330052,  -2860.94256874,\n",
              "          1049.86877291]])"
            ]
          },
          "metadata": {},
          "execution_count": 74
        }
      ],
      "source": [
        "sgd_clf.decision_function([X_train[15]])"
      ]
    },
    {
      "cell_type": "code",
      "execution_count": null,
      "metadata": {
        "colab": {
          "base_uri": "https://localhost:8080/"
        },
        "id": "VxtCMPr4Om1y",
        "outputId": "3d7cf930-2593-4bb0-a4f8-fb391df32aec"
      },
      "outputs": [
        {
          "output_type": "stream",
          "name": "stdout",
          "text": [
            "Индекс макс. элемента: 7\n",
            "Классы: [0 1 2 3 4 5 6 7 8 9]\n"
          ]
        }
      ],
      "source": [
        "print(\"Индекс макс. элемента: {}\".format(np.argmax(sgd_clf.decision_function([X_train[15]]))))\n",
        "print(\"Классы: {}\".format(sgd_clf.classes_))"
      ]
    },
    {
      "cell_type": "code",
      "source": [
        "# Собственный KFold валидатор\n",
        "strat_k_fold = StratifiedKFold(3)\n",
        "for tr_idx, tst_idx in strat_k_fold.split(X_train, y_train):\n",
        "    sgd_clf = SGDClassifier(random_state=42)\n",
        "    X_train_folds = X_train[tr_idx]\n",
        "    y_train_folds = y_train[tr_idx]\n",
        "    X_val_folds = X_train[tst_idx]\n",
        "    y_val_folds = y_train[tst_idx]\n",
        "    sgd_clf.fit(X_train_folds, y_train_folds)\n",
        "    pred = sgd_clf.predict(X_val_folds)\n",
        "    print(\"Built in function accuracy: {}\".format(accuracy_score(y_val_folds, pred)))"
      ],
      "metadata": {
        "colab": {
          "base_uri": "https://localhost:8080/"
        },
        "id": "f8DQRWabVEgq",
        "outputId": "a803033b-c0f0-4703-b8c5-eb47767a3dbd"
      },
      "execution_count": null,
      "outputs": [
        {
          "output_type": "stream",
          "name": "stdout",
          "text": [
            "Built in function accuracy: 0.87365\n",
            "Built in function accuracy: 0.85835\n",
            "Built in function accuracy: 0.8689\n"
          ]
        }
      ]
    },
    {
      "cell_type": "code",
      "execution_count": null,
      "metadata": {
        "colab": {
          "base_uri": "https://localhost:8080/"
        },
        "id": "mtnHec8bgu8B",
        "outputId": "ca0a42c1-a959-4993-b4a7-4a1c52ffa8d3"
      },
      "outputs": [
        {
          "output_type": "execute_result",
          "data": {
            "text/plain": [
              "array([0.87365, 0.85835, 0.8689 ])"
            ]
          },
          "metadata": {},
          "execution_count": 77
        }
      ],
      "source": [
        "cross_val_score(SGDClassifier(random_state=42), X_train, y_train, scoring='accuracy', cv=3)"
      ]
    },
    {
      "cell_type": "code",
      "execution_count": null,
      "metadata": {
        "colab": {
          "base_uri": "https://localhost:8080/"
        },
        "id": "kIeDsEfLgxzt",
        "outputId": "2f56747c-4a08-4d95-f10e-c8138ebf554b"
      },
      "outputs": [
        {
          "output_type": "execute_result",
          "data": {
            "text/plain": [
              "0.10441666666666667"
            ]
          },
          "metadata": {},
          "execution_count": 78
        }
      ],
      "source": [
        "simple_pred = np.array([7]*y_train.shape[0])\n",
        "accuracy_score(y_train, simple_pred)\n",
        "# SGD не плохо справляется относительно простого алгоритма, который всегда предиктит 7"
      ]
    },
    {
      "cell_type": "code",
      "source": [
        "from sklearn.preprocessing import StandardScaler"
      ],
      "metadata": {
        "id": "jP_ZSJ4hdFCz"
      },
      "execution_count": null,
      "outputs": []
    },
    {
      "cell_type": "code",
      "source": [
        "std_scaler = StandardScaler()\n",
        "X_train_scaled = std_scaler.fit_transform(X_train)"
      ],
      "metadata": {
        "id": "XBkjCzeEUu6z"
      },
      "execution_count": null,
      "outputs": []
    },
    {
      "cell_type": "code",
      "source": [
        "cross_val_score(SGDClassifier(random_state=42), X_train_scaled, y_train, cv=3, scoring='accuracy')"
      ],
      "metadata": {
        "colab": {
          "base_uri": "https://localhost:8080/"
        },
        "id": "plqBdd8LVDxs",
        "outputId": "e6c40b6a-1707-4f52-d8c2-db154f6310dd"
      },
      "execution_count": null,
      "outputs": [
        {
          "output_type": "execute_result",
          "data": {
            "text/plain": [
              "array([0.8983, 0.891 , 0.9018])"
            ]
          },
          "metadata": {},
          "execution_count": 78
        }
      ]
    },
    {
      "cell_type": "code",
      "source": [
        "y_train_pred = cross_val_predict(SGDClassifier(random_state=42), X_train_scaled, y_train, cv=3)"
      ],
      "metadata": {
        "id": "CxN-ea9BVVN0"
      },
      "execution_count": null,
      "outputs": []
    },
    {
      "cell_type": "code",
      "source": [
        "conf_mtx = confusion_matrix(y_train, y_train_pred)\n",
        "conf_mtx"
      ],
      "metadata": {
        "colab": {
          "base_uri": "https://localhost:8080/"
        },
        "id": "gWaROvUwWsrv",
        "outputId": "ef3eb1eb-652a-45c9-d481-e918359d1448"
      },
      "execution_count": null,
      "outputs": [
        {
          "output_type": "execute_result",
          "data": {
            "text/plain": [
              "array([[5577,    0,   22,    5,    8,   43,   36,    6,  225,    1],\n",
              "       [   0, 6400,   37,   24,    4,   44,    4,    7,  212,   10],\n",
              "       [  27,   27, 5220,   92,   73,   27,   67,   36,  378,   11],\n",
              "       [  22,   17,  117, 5227,    2,  203,   27,   40,  403,   73],\n",
              "       [  12,   14,   41,    9, 5182,   12,   34,   27,  347,  164],\n",
              "       [  27,   15,   30,  168,   53, 4444,   75,   14,  535,   60],\n",
              "       [  30,   15,   42,    3,   44,   97, 5552,    3,  131,    1],\n",
              "       [  21,   10,   51,   30,   49,   12,    3, 5684,  195,  210],\n",
              "       [  17,   63,   48,   86,    3,  126,   25,   10, 5429,   44],\n",
              "       [  25,   18,   30,   64,  118,   36,    1,  179,  371, 5107]])"
            ]
          },
          "metadata": {},
          "execution_count": 79
        }
      ]
    },
    {
      "cell_type": "code",
      "source": [
        "import seaborn as sns"
      ],
      "metadata": {
        "id": "5vavq-h7foCL"
      },
      "execution_count": null,
      "outputs": []
    },
    {
      "cell_type": "code",
      "source": [
        "sns.heatmap(conf_mtx)\n",
        "# Из матрицы(графической) видно, пятёрки ошибочно классифицируются как 8."
      ],
      "metadata": {
        "colab": {
          "base_uri": "https://localhost:8080/"
        },
        "id": "HAaX5n0FgbFf",
        "outputId": "3cea309f-717c-4ab2-c8f4-bcc63a5e2b7b"
      },
      "execution_count": null,
      "outputs": [
        {
          "output_type": "execute_result",
          "data": {
            "text/plain": [
              "<matplotlib.axes._subplots.AxesSubplot at 0x7fa2e44bf590>"
            ]
          },
          "metadata": {},
          "execution_count": 81
        },
        {
          "output_type": "display_data",
          "data": {
            "text/plain": [
              "<Figure size 432x288 with 2 Axes>"
            ],
            "image/png": "[encoded data removed]"
          },
          "metadata": {
            "needs_background": "light"
          }
        }
      ]
    },
    {
      "cell_type": "code",
      "source": [
        "conf_mx_row_sum = conf_mtx.sum(axis=1, keepdims=True)\n",
        "conf_mx_row_sum"
      ],
      "metadata": {
        "colab": {
          "base_uri": "https://localhost:8080/"
        },
        "id": "zxtL1A7zgt1m",
        "outputId": "a3828152-d7bc-4f29-f4ba-b286443c731f"
      },
      "execution_count": null,
      "outputs": [
        {
          "output_type": "execute_result",
          "data": {
            "text/plain": [
              "array([[5923],\n",
              "       [6742],\n",
              "       [5958],\n",
              "       [6131],\n",
              "       [5842],\n",
              "       [5421],\n",
              "       [5918],\n",
              "       [6265],\n",
              "       [5851],\n",
              "       [5949]])"
            ]
          },
          "metadata": {},
          "execution_count": 82
        }
      ]
    },
    {
      "cell_type": "code",
      "source": [
        "norm_conf_mx = conf_mtx / conf_mx_row_sum\n",
        "np.fill_diagonal(norm_conf_mx, 0)\n",
        "sns.heatmap(norm_conf_mx)\n",
        "# при занулении диагонали, сразу видно проблемную взаимосвязь всех цифр с 8"
      ],
      "metadata": {
        "colab": {
          "base_uri": "https://localhost:8080/"
        },
        "id": "LE3s3x8ZkQr3",
        "outputId": "09401aa7-c99a-477e-e912-1bcc4d2bf18f"
      },
      "execution_count": null,
      "outputs": [
        {
          "output_type": "execute_result",
          "data": {
            "text/plain": [
              "<matplotlib.axes._subplots.AxesSubplot at 0x7fa2e57fc0d0>"
            ]
          },
          "metadata": {},
          "execution_count": 83
        },
        {
          "output_type": "display_data",
          "data": {
            "text/plain": [
              "<Figure size 432x288 with 2 Axes>"
            ],
            "image/png": "[encoded data removed]"
          },
          "metadata": {
            "needs_background": "light"
          }
        }
      ]
    },
    {
      "cell_type": "code",
      "source": [
        "fig, ax = plt.subplots(5,5, figsize=(12, 12))\n",
        "for row in range(5):\n",
        "    for col in range(5):\n",
        "        ax[row, col].imshow(X_train[y_train==5][np.random.randint(0, 3000)].reshape((28, 28)), cmap='binary')\n",
        "        "
      ],
      "metadata": {
        "colab": {
          "base_uri": "https://localhost:8080/",
          "height": 702
        },
        "id": "PC6Ab40Xkr-N",
        "outputId": "55b98611-aca0-4300-8dd3-33e9b9aac288"
      },
      "execution_count": null,
      "outputs": [
        {
          "output_type": "display_data",
          "data": {
            "text/plain": [
              "<Figure size 864x864 with 25 Axes>"
            ],
            "image/png": "[encoded data removed]"
          },
          "metadata": {
            "needs_background": "light"
          }
        }
      ]
    },
    {
      "cell_type": "markdown",
      "source": [
        "# Многозначная классификация  \n",
        "Смысл в предикте нескольких значений сразу"
      ],
      "metadata": {
        "id": "kpaJYQmTXXkP"
      }
    },
    {
      "cell_type": "code",
      "source": [
        "from sklearn.neighbors import KNeighborsClassifier"
      ],
      "metadata": {
        "id": "R7u1a8tzo54x"
      },
      "execution_count": 84,
      "outputs": []
    },
    {
      "cell_type": "code",
      "source": [
        "y_train_large = (y_train >= 7) \n",
        "y_train_odd = (y_train % 2 == 1)\n",
        "y_multilabel = np.c_[y_train_large, y_train_odd]"
      ],
      "metadata": {
        "id": "9bipIEw3YBxY"
      },
      "execution_count": 88,
      "outputs": []
    },
    {
      "cell_type": "code",
      "source": [
        "knn_clf = KNeighborsClassifier() \n",
        "knn_clf.fit(X_train, y_multilabel)"
      ],
      "metadata": {
        "colab": {
          "base_uri": "https://localhost:8080/"
        },
        "id": "PSctXxl5eh_J",
        "outputId": "233b37b1-af7e-4217-a995-e5a82b434cae"
      },
      "execution_count": 89,
      "outputs": [
        {
          "output_type": "execute_result",
          "data": {
            "text/plain": [
              "KNeighborsClassifier()"
            ]
          },
          "metadata": {},
          "execution_count": 89
        }
      ]
    },
    {
      "cell_type": "code",
      "source": [
        "print(\"Число: {}\".format(y_train[15]))\n",
        "print(\">= 7: {}\\t%2 == 1: {}\".format(y_train_large[15], y_train_odd[15]))\n",
        "print(\"Предсказанное значение алгоритма: {}\".format(knn_clf.predict([X_train[15]])))"
      ],
      "metadata": {
        "colab": {
          "base_uri": "https://localhost:8080/"
        },
        "id": "K7i-c7vMgA-C",
        "outputId": "9d4effd2-ef18-4821-f691-980c36ad7fbb"
      },
      "execution_count": 95,
      "outputs": [
        {
          "output_type": "stream",
          "name": "stdout",
          "text": [
            "Число: 7\n",
            ">= 7: True\t%2 == 1: True\n",
            "Предсказанное значение алгоритма: [[ True  True]]\n"
          ]
        }
      ]
    },
    {
      "cell_type": "code",
      "source": [
        ""
      ],
      "metadata": {
        "id": "N9uXAqixgH-1"
      },
      "execution_count": null,
      "outputs": []
    }
  ],
  "metadata": {
    "colab": {
      "collapsed_sections": [],
      "name": "mnist_edu.ipynb",
      "provenance": [],
      "authorship_tag": "ABX9TyN1qwoqqmF+n/6FXVW6+7xw"
    },
    "kernelspec": {
      "display_name": "Python 3",
      "name": "python3"
    },
    "language_info": {
      "name": "python"
    }
  },
  "nbformat": 4,
  "nbformat_minor": 0
}