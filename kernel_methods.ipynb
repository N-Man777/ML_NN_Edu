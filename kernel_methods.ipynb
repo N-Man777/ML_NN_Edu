{
  "cells": [
    {
      "cell_type": "code",
      "execution_count": 1,
      "metadata": {
        "id": "ZNoiugLMZl-s"
      },
      "outputs": [],
      "source": [
        "import numpy as np\n",
        "import pandas as pd\n",
        "import matplotlib.pyplot as plt\n",
        "from sklearn import datasets\n",
        "#from sklearn.preprocessing import PolynomialFeatures"
      ]
    },
    {
      "cell_type": "code",
      "execution_count": 2,
      "metadata": {
        "id": "pfbvp7sHa5dr"
      },
      "outputs": [],
      "source": [
        "iris = datasets.load_iris()\n",
        "X = iris.data[50:]\n",
        "y = iris.target[50:]\n",
        "y[:50] = -1\n",
        "y[50:] = 1\n",
        "X_B = np.c_[np.ones((100, 1)), X]"
      ]
    },
    {
      "cell_type": "code",
      "execution_count": 3,
      "metadata": {
        "id": "ubgYcuQsIZOj"
      },
      "outputs": [],
      "source": [
        "epochs = 7000\n",
        "eta = 0.01\n",
        "weights = np.zeros((5, 1))\n",
        "for epoch in range(epochs):\n",
        "    grad = np.zeros((5, 1))\n",
        "    z = np.zeros((5, 1))\n",
        "    hinge_error = 0\n",
        "    for point, target in zip(X_B, y):\n",
        "        hinge_error += max(0, 1 - target * point.dot(weights)) / 100\n",
        "        grad += 0 if 1 - target * point.dot(weights) <= 0 else (-target) * point.reshape(-1, 1) / 100\n",
        "        z += grad ** 2\n",
        "    # print(\"EPOCH: {} --- ERROR: {}\".format(epoch, hinge_error))\n",
        "    weights -= eta * grad / np.sqrt(z + 1e-7)"
      ]
    },
    {
      "cell_type": "code",
      "execution_count": 4,
      "metadata": {
        "colab": {
          "base_uri": "https://localhost:8080/"
        },
        "id": "IAc_FszVSf34",
        "outputId": "a229ef10-6a19-481f-f48a-41993c54555e"
      },
      "outputs": [
        {
          "output_type": "stream",
          "name": "stdout",
          "text": [
            "ACCURACY:  96 %\n"
          ]
        }
      ],
      "source": [
        "print(\"ACCURACY: \", np.sum(np.sign(X_B.dot(weights)) == y.reshape(-1, 1)),'%')"
      ]
    },
    {
      "cell_type": "markdown",
      "metadata": {
        "id": "Ay991gadYbeh"
      },
      "source": [
        "# Trick 1\n",
        "В случае когда мы дополняем наши исходные фичи различными комбинациями(между собой), размерность вектора весов может стать очень большой, поэтому используется следующий метод:  \n",
        "Вектор весов W в линейном классификаторе это есть взвешенная сумма: ∑alphaᵢ * Xᵢ alpha - становится параметром   \n",
        "Получается, мы будем хранить n-мерный вектор, а не вектор размером 2ᵈ  \n",
        "1-ый трюк - это обучение линейной модели без фактического хранения и вычисления экстремально большого вектора весов W. Мы храним вектор alpha по 1 для каждой точки данных.  \n",
        "y_test = sign(∑alphaᵢ * X_Bᵢ.dot(x_test))"
      ]
    },
    {
      "cell_type": "code",
      "execution_count": 5,
      "metadata": {
        "id": "GTrCcr7uYasb"
      },
      "outputs": [],
      "source": [
        "alpha = np.zeros((X_B.shape[0], 1))\n",
        "gamma = np.zeros((X_B.shape[0], 1))\n",
        "eta = 0.01\n",
        "for epoch in range(epochs):\n",
        "    hinge_error = 0\n",
        "    w = np.sum(alpha * X_B, axis=0).reshape(-1, 1)\n",
        "    for idx, point, target in zip(range(100), X_B, y):\n",
        "        hinge_error += max(0, 1 - point.dot(w) * target)\n",
        "        gamma[idx] = 0 if point.dot(w) * target >= 1 else np.sum((-target) * point) / 100\n",
        "    # print(\"EPOCH: {} --- ERROR: {}\".format(epoch, hinge_error / 100))\n",
        "    alpha -= eta * gamma"
      ]
    },
    {
      "cell_type": "code",
      "execution_count": 6,
      "metadata": {
        "colab": {
          "base_uri": "https://localhost:8080/"
        },
        "id": "EFz0qlyDT5_O",
        "outputId": "adaa092d-3c6a-43ba-a195-18e7f7270d73"
      },
      "outputs": [
        {
          "output_type": "stream",
          "name": "stdout",
          "text": [
            "ACCURACY:  97 %\n"
          ]
        }
      ],
      "source": [
        "w = np.sum(alpha * X_B, axis=0).reshape(-1, 1)\n",
        "print(\"ACCURACY: \",np.sum(np.sign(X_B.dot(w)) == y.reshape(-1, 1)),'%')"
      ]
    },
    {
      "cell_type": "markdown",
      "metadata": {
        "id": "qtB1tCGKnGhI"
      },
      "source": [
        "# Linear kernel  \n",
        "K(x, z) = xᵀz"
      ]
    },
    {
      "cell_type": "code",
      "execution_count": 7,
      "metadata": {
        "id": "QCywf9AOOnzu"
      },
      "outputs": [],
      "source": [
        "lin_k = np.c_[X_B, X.dot(X.T)] # linear kernel matrix\n",
        "n = lin_k.shape"
      ]
    },
    {
      "cell_type": "code",
      "execution_count": 8,
      "metadata": {
        "id": "lyWc11I8oCAQ"
      },
      "outputs": [],
      "source": [
        "weights = np.random.randn(n[1], 1)\n",
        "epochs = 15000\n",
        "eta_0 = 10\n",
        "for epoch in range(epochs):\n",
        "    hinge_error = 0\n",
        "    eta = eta_0 / (epoch + 10)\n",
        "    grad = np.zeros((n[1], 1))\n",
        "    for point, target in zip(lin_k, y):\n",
        "        hinge_error += max(0, 1 - point.dot(weights) * target) / n[0]\n",
        "        grad += (-point.reshape(-1, 1) * target) / n[0] if point.dot(weights) * target < 1 else 0\n",
        "    # print(\"EPOCH: {} --- ERROR: {}\".format(epoch, hinge_error))\n",
        "    weights -= eta * grad"
      ]
    },
    {
      "cell_type": "code",
      "execution_count": 9,
      "metadata": {
        "id": "6zTs9J9boPM_",
        "colab": {
          "base_uri": "https://localhost:8080/"
        },
        "outputId": "027d5a4e-4980-47b7-8dc8-ccefe11f6675"
      },
      "outputs": [
        {
          "output_type": "stream",
          "name": "stdout",
          "text": [
            "ACCURACY:  96 %\n"
          ]
        }
      ],
      "source": [
        "print(\"ACCURACY: \",np.sum(np.sign(lin_k.dot(weights)) == y.reshape(-1, 1)), '%')"
      ]
    },
    {
      "cell_type": "markdown",
      "metadata": {
        "id": "R1DGG5jrFcbv"
      },
      "source": [
        "# Polynomial kernel  \n",
        "K(x, z) = (1 + xᵀz)ᴾ"
      ]
    },
    {
      "cell_type": "code",
      "execution_count": 10,
      "metadata": {
        "colab": {
          "base_uri": "https://localhost:8080/"
        },
        "id": "RLjSJIwLB6pi",
        "outputId": "5f525a81-aadd-4d8e-cc38-1c9f95970590"
      },
      "outputs": [
        {
          "output_type": "stream",
          "name": "stdout",
          "text": [
            "### 2 ###\n",
            "ACCURACY:  98 %\n",
            "\n",
            "### 3 ###\n",
            "ACCURACY:  98 %\n",
            "\n",
            "### 4 ###\n",
            "ACCURACY:  98 %\n",
            "\n",
            "### 5 ###\n",
            "ACCURACY:  96 %\n",
            "\n"
          ]
        }
      ],
      "source": [
        "for p in [2, 3, 4, 5]:\n",
        "    print(\"### {} ###\".format(p))\n",
        "    poly_k = np.zeros((X_B.shape[0], X_B.shape[0]))\n",
        "    for i in range(X.shape[0]):\n",
        "        for j in range(X.shape[0]):\n",
        "            poly_k[i][j] = (1 + X_B[i].dot(X_B[j].T)) ** p # Polynomial kernel matrix. p - degree\n",
        "    n = poly_k.shape\n",
        "    \n",
        "    weights = np.random.randn(n[1], 1)\n",
        "    epochs = 20000\n",
        "    eta_0 = 10\n",
        "    for epoch in range(1, epochs+1):\n",
        "        hinge_error = 0\n",
        "        eta = eta_0 / (epoch + 100)\n",
        "        grad = np.zeros((n[1], 1))\n",
        "        for point, target in zip(poly_k, y):\n",
        "            hinge_error += max(0, 1 - point.dot(weights) * target) / n[0]\n",
        "            grad += (-point.reshape(-1, 1) * target) / n[0] if point.dot(weights) * target < 1 else 0\n",
        "        # if epoch % 5000 == 0:\n",
        "        #     print(\"EPOCH: {} --- ERROR: {}\".format(epoch, hinge_error))\n",
        "        weights -= eta * grad\n",
        "    print(\"ACCURACY: \",np.sum(np.sign(poly_k.dot(weights)) == y.reshape(-1, 1)), '%')\n",
        "    print()"
      ]
    },
    {
      "cell_type": "markdown",
      "metadata": {
        "id": "tQDeu_nuGL8s"
      },
      "source": [
        "# RBF  \n",
        "K(x, z) = e^(-||x - z||^2 / gamma\\^2 / 2)"
      ]
    },
    {
      "cell_type": "code",
      "execution_count": 11,
      "metadata": {
        "id": "6XeI1_xDDSQi",
        "colab": {
          "base_uri": "https://localhost:8080/"
        },
        "outputId": "025ee1aa-dcc9-49f9-c64d-411178c647ef"
      },
      "outputs": [
        {
          "output_type": "stream",
          "name": "stdout",
          "text": [
            "s: 0.1\n",
            "ACCURACY:  95 %\n",
            "\n",
            "s: 0.5\n",
            "ACCURACY:  96 %\n",
            "\n",
            "s: 1\n",
            "ACCURACY:  98 %\n",
            "\n",
            "s: 3\n",
            "ACCURACY:  95 %\n",
            "\n",
            "s: 5\n",
            "ACCURACY:  91 %\n",
            "\n",
            "s: 10\n",
            "ACCURACY:  85 %\n",
            "\n"
          ]
        }
      ],
      "source": [
        "rbf_k = np.zeros((X_B.shape[0], X_B.shape[0]))\n",
        "n = rbf_k.shape\n",
        "for s in [0.1, 0.5, 1, 3, 5, 10]:\n",
        "    print(\"s: {}\".format(s))\n",
        "    s **= 2\n",
        "    for i in range(X.shape[0]):\n",
        "        for j in range(X.shape[0]):\n",
        "            rbf_k[i][j] = np.exp(-1 * (np.sum((X_B[i] - X_B[j]) ** 2)) / s / 2)\n",
        "    weights = np.random.randn(n[1], 1)\n",
        "    epochs = 15000\n",
        "    eta_0 = 10\n",
        "    eta = 0.01\n",
        "    for epoch in range(1, epochs+1):\n",
        "        hinge_error = 0\n",
        "        #eta = eta_0 / (epoch + 10)\n",
        "        grad = np.zeros((n[1], 1))\n",
        "        for point, target in zip(rbf_k, y):\n",
        "            hinge_error += max(0, 1 - point.dot(weights) * target) / n[0]\n",
        "            grad += (-point.reshape(-1, 1) * target) / n[0] if point.dot(weights) * target < 1 else 0\n",
        "        #print(\"EPOCH: {} --- ERROR: {}\".format(epoch, hinge_error))\n",
        "        weights -= eta * grad\n",
        "    print(\"ACCURACY: \",np.sum(np.sign(rbf_k.dot(weights)) == y.reshape(-1, 1)), '%')\n",
        "    print()"
      ]
    }
  ],
  "metadata": {
    "colab": {
      "provenance": [],
      "authorship_tag": "ABX9TyOlUIvWRR7r6XrKpv0Z98VK"
    },
    "kernelspec": {
      "display_name": "Python 3",
      "name": "python3"
    },
    "language_info": {
      "name": "python"
    }
  },
  "nbformat": 4,
  "nbformat_minor": 0
}