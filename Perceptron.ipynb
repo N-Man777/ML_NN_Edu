{
  "nbformat": 4,
  "nbformat_minor": 0,
  "metadata": {
    "colab": {
      "provenance": [],
      "authorship_tag": "ABX9TyNuB5hieCVKSFkM/o1lsvQL"
    },
    "kernelspec": {
      "name": "python3",
      "display_name": "Python 3"
    },
    "language_info": {
      "name": "python"
    }
  },
  "cells": [
    {
      "cell_type": "code",
      "execution_count": 1,
      "metadata": {
        "id": "1Cq4pNkmdk_r"
      },
      "outputs": [],
      "source": [
        "import numpy as np\n",
        "import matplotlib.pyplot as plt"
      ]
    },
    {
      "cell_type": "code",
      "source": [
        "X_1 = -2 + np.random.randn(100, 1)\n",
        "X_2 = 2 + np.random.randn(100, 1)\n",
        "y_1 = -1 + np.random.randn(100, 1)\n",
        "y_2 = 2 + np.random.randn(100, 1)"
      ],
      "metadata": {
        "id": "PbZf0Wl3d79L"
      },
      "execution_count": 2,
      "outputs": []
    },
    {
      "cell_type": "code",
      "source": [
        "X_1 = np.c_[X_1, y_1]\n",
        "X_2 = np.c_[X_2, y_2]\n",
        "X = np.concatenate((X_1, X_2), axis=0)\n",
        "X_b = np.c_[np.ones((200, 1)), X] # сгенерируем данные (линейно сепарабельные)\n",
        "y = np.concatenate((-np.ones((100, 1)), np.ones((100, 1))), axis=0) # таргеты данных\n",
        "X.shape, y.shape"
      ],
      "metadata": {
        "colab": {
          "base_uri": "https://localhost:8080/"
        },
        "id": "uLXMfasSeP2r",
        "outputId": "c5ecce60-4303-4183-e2a4-51de213ec038"
      },
      "execution_count": 3,
      "outputs": [
        {
          "output_type": "execute_result",
          "data": {
            "text/plain": [
              "((200, 2), (200, 1))"
            ]
          },
          "metadata": {},
          "execution_count": 3
        }
      ]
    },
    {
      "cell_type": "code",
      "source": [
        "weights = np.zeros((3, 1)) # изначально установим веса в 0"
      ],
      "metadata": {
        "id": "UQrI8Wv4eSjZ"
      },
      "execution_count": 4,
      "outputs": []
    },
    {
      "cell_type": "code",
      "source": [
        "plt.figure(figsize=(11, 9))\n",
        "plt.scatter(X[:100, 0], X[:100, 1], s=11)\n",
        "plt.scatter(X[100:, 0], X[100:, 1], s=11)\n",
        "\n",
        "\n",
        "X_line = np.linspace(-5, 5, 100).reshape((-1, 1))\n",
        "X_b_line = np.c_[np.ones((100, 1)), X_line]\n",
        "epoch = 0\n",
        "while True: # начало алгоритма внешний цикл\n",
        "    m = 0 # счётчик ошибок\n",
        "    epoch += 1\n",
        "    for point, t in zip(X_b, y): # проходим по всем точкам множества\n",
        "        if t * point.dot(weights) <= 0:\n",
        "            \"\"\"Произведение X_b на вектор весов W даст нам числовое значение,\n",
        "            которое показывает, где будет наша точка: выше или ниже \n",
        "            разделительной гиперплоскости.\n",
        "            Изначально, y = {-1, 1}\n",
        "            Соответсвенно, если знак таргета и взвешенной суммы - совпадает,\n",
        "            то предсказание правильное и ничего делать не нужно, иначе \n",
        "            требуется изменить веса\n",
        "            \"\"\"\n",
        "            weights += t * point.reshape((-1, 1)) # изменяем веса\n",
        "            m += 1 # увеличиваем счётчик ошибок\n",
        "    y_line = -(X_b_line[:, 1] * weights[1,0] + weights[0,0]) / weights[2,0]    \n",
        "    if m == 0: # Если после пробега по всем точкам ошибок - нет, алгоритм сработал успешно т.е. выходим\n",
        "        break\n",
        "plt.plot(X_line, y_line) # чертим разделяющую гиперплоскость\n",
        "\n",
        "X_test = np.array([[1, -2, -2], [1, 3, 4]])\n",
        "y_test = X_test.dot(weights)\n",
        "print(\"y_test: {}\".format(y_test))\n",
        "plt.scatter(X_test[:, 1], X_test[:, 2], color=['r', 'g'])\n",
        "plt.axis([-6, 6, -6, 6])\n"
      ],
      "metadata": {
        "colab": {
          "base_uri": "https://localhost:8080/",
          "height": 593
        },
        "id": "sK-KWzmFkiO0",
        "outputId": "bd852e4a-cf40-4e31-f3de-2999df5537ee"
      },
      "execution_count": 5,
      "outputs": [
        {
          "output_type": "stream",
          "name": "stdout",
          "text": [
            "y_test: [[-7.43993166]\n",
            " [ 9.95623338]]\n"
          ]
        },
        {
          "output_type": "execute_result",
          "data": {
            "text/plain": [
              "(-6.0, 6.0, -6.0, 6.0)"
            ]
          },
          "metadata": {},
          "execution_count": 5
        },
        {
          "output_type": "display_data",
          "data": {
            "text/plain": [
              "<Figure size 792x648 with 1 Axes>"
            ],
            "image/png": "[encoded data removed]"
          },
          "metadata": {
            "needs_background": "light"
          }
        }
      ]
    },
    {
      "cell_type": "code",
      "source": [
        "print(weights)"
      ],
      "metadata": {
        "colab": {
          "base_uri": "https://localhost:8080/"
        },
        "id": "JpiQgKzSz0ju",
        "outputId": "ee4360db-36ec-4b63-8c49-e378147f4953"
      },
      "execution_count": 6,
      "outputs": [
        {
          "output_type": "stream",
          "name": "stdout",
          "text": [
            "[[-1.        ]\n",
            " [ 1.92362994]\n",
            " [ 1.29633589]]\n"
          ]
        }
      ]
    },
    {
      "cell_type": "code",
      "source": [
        "from sklearn import datasets"
      ],
      "metadata": {
        "id": "ACBQ-nT2MfD2"
      },
      "execution_count": 7,
      "outputs": []
    },
    {
      "cell_type": "code",
      "source": [
        "digits = datasets.load_digits()\n",
        "X = digits.data\n",
        "y = digits.target\n",
        "X.shape, y.shape"
      ],
      "metadata": {
        "colab": {
          "base_uri": "https://localhost:8080/"
        },
        "id": "AfbLnakaOfcH",
        "outputId": "8c94764c-b8aa-4226-93f2-3cc6c3688a36"
      },
      "execution_count": 8,
      "outputs": [
        {
          "output_type": "execute_result",
          "data": {
            "text/plain": [
              "((1797, 64), (1797,))"
            ]
          },
          "metadata": {},
          "execution_count": 8
        }
      ]
    },
    {
      "cell_type": "code",
      "source": [
        "X_zeros_sevens = X[(y == 7) | (y == 0)]\n",
        "X_zeros_sevens_b = np.c_[np.ones((357, 1)),X[(y == 7) | (y == 0)]]\n",
        "y_zeros_sevens = y[(y == 7) | (y == 0)]\n",
        "y_zeros_sevens[y_zeros_sevens == 7] = 1\n",
        "y_zeros_sevens[y_zeros_sevens == 0] = -1\n",
        "X_zeros_sevens.shape"
      ],
      "metadata": {
        "colab": {
          "base_uri": "https://localhost:8080/"
        },
        "id": "z_LDN2upOvfX",
        "outputId": "47ded814-67dc-49c6-c5b4-3e34bbdd251d"
      },
      "execution_count": 9,
      "outputs": [
        {
          "output_type": "execute_result",
          "data": {
            "text/plain": [
              "(357, 64)"
            ]
          },
          "metadata": {},
          "execution_count": 9
        }
      ]
    },
    {
      "cell_type": "code",
      "source": [
        "w = np.zeros((65, 1))\n",
        "epochs = 0\n",
        "plt.imshow(w[1:].reshape(8, 8), cmap='binary')\n",
        "plt.show()\n",
        "while True:\n",
        "    m = 0\n",
        "    epochs += 1\n",
        "    for digit, t in zip(X_zeros_sevens_b, y_zeros_sevens):\n",
        "        if t * digit.dot(w) <= 0:\n",
        "            w += t * digit.reshape((-1, 1))\n",
        "            m += 1\n",
        "            plt.imshow(w[1:].reshape(8, 8), cmap='binary')\n",
        "            plt.show()\n",
        "    if m == 0:\n",
        "        break\n",
        "plt.imshow(w[1:].reshape(8, 8), cmap='binary')\n",
        "plt.show"
      ],
      "metadata": {
        "colab": {
          "base_uri": "https://localhost:8080/",
          "height": 1000
        },
        "id": "29jjJv5gPsIw",
        "outputId": "c3c8fde6-f096-4d2f-c22f-371aaec15df0"
      },
      "execution_count": 10,
      "outputs": [
        {
          "output_type": "display_data",
          "data": {
            "text/plain": [
              "<Figure size 432x288 with 1 Axes>"
            ],
            "image/png": "[encoded data removed]"
          },
          "metadata": {
            "needs_background": "light"
          }
        },
        {
          "output_type": "display_data",
          "data": {
            "text/plain": [
              "<Figure size 432x288 with 1 Axes>"
            ],
            "image/png": "[encoded data removed]"
          },
          "metadata": {
            "needs_background": "light"
          }
        },
        {
          "output_type": "display_data",
          "data": {
            "text/plain": [
              "<Figure size 432x288 with 1 Axes>"
            ],
            "image/png": "[encoded data removed]"
          },
          "metadata": {
            "needs_background": "light"
          }
        },
        {
          "output_type": "display_data",
          "data": {
            "text/plain": [
              "<Figure size 432x288 with 1 Axes>"
            ],
            "image/png": "[encoded data removed]"
          },
          "metadata": {
            "needs_background": "light"
          }
        },
        {
          "output_type": "display_data",
          "data": {
            "text/plain": [
              "<Figure size 432x288 with 1 Axes>"
            ],
            "image/png": "[encoded data removed]"
          },
          "metadata": {
            "needs_background": "light"
          }
        },
        {
          "output_type": "display_data",
          "data": {
            "text/plain": [
              "<Figure size 432x288 with 1 Axes>"
            ],
            "image/png": "[encoded data removed]"
          },
          "metadata": {
            "needs_background": "light"
          }
        },
        {
          "output_type": "display_data",
          "data": {
            "text/plain": [
              "<Figure size 432x288 with 1 Axes>"
            ],
            "image/png": "[encoded data removed]"
          },
          "metadata": {
            "needs_background": "light"
          }
        },
        {
          "output_type": "display_data",
          "data": {
            "text/plain": [
              "<Figure size 432x288 with 1 Axes>"
            ],
            "image/png": "[encoded data removed]"
          },
          "metadata": {
            "needs_background": "light"
          }
        },
        {
          "output_type": "display_data",
          "data": {
            "text/plain": [
              "<Figure size 432x288 with 1 Axes>"
            ],
            "image/png": "[encoded data removed]"
          },
          "metadata": {
            "needs_background": "light"
          }
        },
        {
          "output_type": "display_data",
          "data": {
            "text/plain": [
              "<Figure size 432x288 with 1 Axes>"
            ],
            "image/png": "[encoded data removed]"
          },
          "metadata": {
            "needs_background": "light"
          }
        },
        {
          "output_type": "display_data",
          "data": {
            "text/plain": [
              "<Figure size 432x288 with 1 Axes>"
            ],
            "image/png": "[encoded data removed]"
          },
          "metadata": {
            "needs_background": "light"
          }
        },
        {
          "output_type": "execute_result",
          "data": {
            "text/plain": [
              "<function matplotlib.pyplot.show(*args, **kw)>"
            ]
          },
          "metadata": {},
          "execution_count": 10
        },
        {
          "output_type": "display_data",
          "data": {
            "text/plain": [
              "<Figure size 432x288 with 1 Axes>"
            ],
            "image/png": "[encoded data removed]"
          },
          "metadata": {
            "needs_background": "light"
          }
        }
      ]
    },
    {
      "cell_type": "code",
      "source": [
        "for _ in range(10):\n",
        "    rnd_indices = np.random.randint(0, 357)\n",
        "    print(np.sign(X_zeros_sevens_b[rnd_indices].dot(w)).flatten())\n",
        "    print()\n",
        "    print(y_zeros_sevens[rnd_indices])\n",
        "    plt.imshow(X_zeros_sevens[rnd_indices].reshape(8,8), cmap='binary')\n",
        "    plt.show()\n"
      ],
      "metadata": {
        "colab": {
          "base_uri": "https://localhost:8080/",
          "height": 1000
        },
        "id": "dlmFurNsSa9j",
        "outputId": "6a46a333-c94b-4d2c-81ff-48c9d971546b"
      },
      "execution_count": 19,
      "outputs": [
        {
          "output_type": "stream",
          "name": "stdout",
          "text": [
            "[1.]\n",
            "\n",
            "1\n"
          ]
        },
        {
          "output_type": "display_data",
          "data": {
            "text/plain": [
              "<Figure size 432x288 with 1 Axes>"
            ],
            "image/png": "[encoded data removed]"
          },
          "metadata": {
            "needs_background": "light"
          }
        },
        {
          "output_type": "stream",
          "name": "stdout",
          "text": [
            "[1.]\n",
            "\n",
            "1\n"
          ]
        },
        {
          "output_type": "display_data",
          "data": {
            "text/plain": [
              "<Figure size 432x288 with 1 Axes>"
            ],
            "image/png": "[encoded data removed]"
          },
          "metadata": {
            "needs_background": "light"
          }
        },
        {
          "output_type": "stream",
          "name": "stdout",
          "text": [
            "[1.]\n",
            "\n",
            "1\n"
          ]
        },
        {
          "output_type": "display_data",
          "data": {
            "text/plain": [
              "<Figure size 432x288 with 1 Axes>"
            ],
            "image/png": "[encoded data removed]"
          },
          "metadata": {
            "needs_background": "light"
          }
        },
        {
          "output_type": "stream",
          "name": "stdout",
          "text": [
            "[-1.]\n",
            "\n",
            "-1\n"
          ]
        },
        {
          "output_type": "display_data",
          "data": {
            "text/plain": [
              "<Figure size 432x288 with 1 Axes>"
            ],
            "image/png": "[encoded data removed]"
          },
          "metadata": {
            "needs_background": "light"
          }
        },
        {
          "output_type": "stream",
          "name": "stdout",
          "text": [
            "[-1.]\n",
            "\n",
            "-1\n"
          ]
        },
        {
          "output_type": "display_data",
          "data": {
            "text/plain": [
              "<Figure size 432x288 with 1 Axes>"
            ],
            "image/png": "[encoded data removed]"
          },
          "metadata": {
            "needs_background": "light"
          }
        },
        {
          "output_type": "stream",
          "name": "stdout",
          "text": [
            "[1.]\n",
            "\n",
            "1\n"
          ]
        },
        {
          "output_type": "display_data",
          "data": {
            "text/plain": [
              "<Figure size 432x288 with 1 Axes>"
            ],
            "image/png": "[encoded data removed]"
          },
          "metadata": {
            "needs_background": "light"
          }
        },
        {
          "output_type": "stream",
          "name": "stdout",
          "text": [
            "[1.]\n",
            "\n",
            "1\n"
          ]
        },
        {
          "output_type": "display_data",
          "data": {
            "text/plain": [
              "<Figure size 432x288 with 1 Axes>"
            ],
            "image/png": "[encoded data removed]"
          },
          "metadata": {
            "needs_background": "light"
          }
        },
        {
          "output_type": "stream",
          "name": "stdout",
          "text": [
            "[1.]\n",
            "\n",
            "1\n"
          ]
        },
        {
          "output_type": "display_data",
          "data": {
            "text/plain": [
              "<Figure size 432x288 with 1 Axes>"
            ],
            "image/png": "[encoded data removed]"
          },
          "metadata": {
            "needs_background": "light"
          }
        },
        {
          "output_type": "stream",
          "name": "stdout",
          "text": [
            "[-1.]\n",
            "\n",
            "-1\n"
          ]
        },
        {
          "output_type": "display_data",
          "data": {
            "text/plain": [
              "<Figure size 432x288 with 1 Axes>"
            ],
            "image/png": "[encoded data removed]"
          },
          "metadata": {
            "needs_background": "light"
          }
        },
        {
          "output_type": "stream",
          "name": "stdout",
          "text": [
            "[-1.]\n",
            "\n",
            "-1\n"
          ]
        },
        {
          "output_type": "display_data",
          "data": {
            "text/plain": [
              "<Figure size 432x288 with 1 Axes>"
            ],
            "image/png": "[encoded data removed]"
          },
          "metadata": {
            "needs_background": "light"
          }
        }
      ]
    },
    {
      "cell_type": "code",
      "source": [],
      "metadata": {
        "id": "I6d4bDhfXh7X"
      },
      "execution_count": 12,
      "outputs": []
    }
  ]
}