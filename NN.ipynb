{
  "nbformat": 4,
  "nbformat_minor": 0,
  "metadata": {
    "colab": {
      "provenance": [],
      "authorship_tag": "ABX9TyN1L452BMDtMVSW6mdAFb67"
    },
    "kernelspec": {
      "name": "python3",
      "display_name": "Python 3"
    },
    "language_info": {
      "name": "python"
    }
  },
  "cells": [
    {
      "cell_type": "code",
      "execution_count": 1,
      "metadata": {
        "id": "XmTKC2AgrFO4"
      },
      "outputs": [],
      "source": [
        "import keras\n",
        "import numpy as np\n",
        "import matplotlib.pyplot as plt\n",
        "from keras.datasets import fashion_mnist"
      ]
    },
    {
      "cell_type": "markdown",
      "source": [
        "# Fashion MNIST"
      ],
      "metadata": {
        "id": "jNEhL6UMEPoM"
      }
    },
    {
      "cell_type": "code",
      "source": [
        "(X_train, y_train), (X_test, y_test) = fashion_mnist.load_data()"
      ],
      "metadata": {
        "id": "vC4NVDal6K79"
      },
      "execution_count": 2,
      "outputs": []
    },
    {
      "cell_type": "code",
      "source": [
        "X_train, X_val = X_train[:50000] / 255, X_train[50000:] / 255\n",
        "y_train, y_val = y_train[:50000], y_train[50000:]\n",
        "X_test = X_test / 255"
      ],
      "metadata": {
        "id": "Kjrcb_Kx_Kqb"
      },
      "execution_count": 3,
      "outputs": []
    },
    {
      "cell_type": "code",
      "source": [
        "class_names = [\"T-shirt/top\", \"Trouser\", \"Pullover\", \"Dress\", \"Coat\", \"Sandal\", \n",
        "               \"Shirt\", \"Sneaker\", \"Bag\", \"Ankle boot\"]"
      ],
      "metadata": {
        "id": "HMUjZKDR_lHS"
      },
      "execution_count": 4,
      "outputs": []
    },
    {
      "cell_type": "code",
      "source": [
        "plt.imshow(X_train[7], cmap='binary')\n",
        "print(class_names[y_train[7]])"
      ],
      "metadata": {
        "colab": {
          "base_uri": "https://localhost:8080/",
          "height": 282
        },
        "id": "EDrbb4RzBTyT",
        "outputId": "cd877e47-5a80-42b3-d254-940e7a8786c1"
      },
      "execution_count": 5,
      "outputs": [
        {
          "output_type": "stream",
          "name": "stdout",
          "text": [
            "Pullover\n"
          ]
        },
        {
          "output_type": "display_data",
          "data": {
            "text/plain": [
              "<Figure size 432x288 with 1 Axes>"
            ],
            "image/png": "[encoded data removed]"
          },
          "metadata": {
            "needs_background": "light"
          }
        }
      ]
    },
    {
      "cell_type": "code",
      "source": [
        "cat_model = keras.models.Sequential()\n",
        "cat_model.add(keras.layers.Flatten(input_shape=[28, 28]))\n",
        "cat_model.add(keras.layers.Dense(300, activation='relu'))\n",
        "cat_model.add(keras.layers.Dense(100, activation='relu'))\n",
        "cat_model.add(keras.layers.Dense(10, activation='softmax'))"
      ],
      "metadata": {
        "id": "lTCL_wG4Bcvg"
      },
      "execution_count": 6,
      "outputs": []
    },
    {
      "cell_type": "code",
      "source": [
        "cat_model.summary()"
      ],
      "metadata": {
        "colab": {
          "base_uri": "https://localhost:8080/"
        },
        "id": "OGZ2YXLNB7wT",
        "outputId": "389ca9b5-88b3-4143-dfaf-b89499734937"
      },
      "execution_count": 7,
      "outputs": [
        {
          "output_type": "stream",
          "name": "stdout",
          "text": [
            "Model: \"sequential\"\n",
            "_________________________________________________________________\n",
            " Layer (type)                Output Shape              Param #   \n",
            "=================================================================\n",
            " flatten (Flatten)           (None, 784)               0         \n",
            "                                                                 \n",
            " dense (Dense)               (None, 300)               235500    \n",
            "                                                                 \n",
            " dense_1 (Dense)             (None, 100)               30100     \n",
            "                                                                 \n",
            " dense_2 (Dense)             (None, 10)                1010      \n",
            "                                                                 \n",
            "=================================================================\n",
            "Total params: 266,610\n",
            "Trainable params: 266,610\n",
            "Non-trainable params: 0\n",
            "_________________________________________________________________\n"
          ]
        }
      ]
    },
    {
      "cell_type": "code",
      "source": [
        "cat_model.compile(loss=keras.losses.sparse_categorical_crossentropy,\n",
        "              optimizer=keras.optimizers.Adagrad(),\n",
        "              metrics=[keras.metrics.sparse_categorical_accuracy])"
      ],
      "metadata": {
        "id": "AehnA0L0EE33"
      },
      "execution_count": 8,
      "outputs": []
    },
    {
      "cell_type": "code",
      "source": [
        "epochs = 70\n",
        "history = cat_model.fit(X_train, y_train, epochs=epochs, validation_data=(X_val, y_val))"
      ],
      "metadata": {
        "id": "KlhykK98Fa2W"
      },
      "execution_count": null,
      "outputs": []
    },
    {
      "cell_type": "code",
      "source": [
        "history.params"
      ],
      "metadata": {
        "id": "l3UvRzMrFnnw",
        "colab": {
          "base_uri": "https://localhost:8080/"
        },
        "outputId": "8f6612d6-cf51-4b72-b42b-69ae5ee5035d"
      },
      "execution_count": 10,
      "outputs": [
        {
          "output_type": "execute_result",
          "data": {
            "text/plain": [
              "{'verbose': 1, 'epochs': 70, 'steps': 1563}"
            ]
          },
          "metadata": {},
          "execution_count": 10
        }
      ]
    },
    {
      "cell_type": "code",
      "source": [
        "def plot_cat_history(history, epochs):\n",
        "    rng = range(epochs)\n",
        "    plt.figure(figsize=(9, 7))\n",
        "    plt.plot(rng, history['loss'], label=\"loss\")\n",
        "    plt.plot(rng, history['sparse_categorical_accuracy'], label=\"accuracy\")\n",
        "    plt.plot(rng, history['val_loss'], label='val_loss')\n",
        "    plt.plot(rng, history['val_sparse_categorical_accuracy'], label='val_accuracy')\n",
        "    plt.legend()"
      ],
      "metadata": {
        "id": "_1cJoJxhF2-c"
      },
      "execution_count": 11,
      "outputs": []
    },
    {
      "cell_type": "code",
      "source": [
        "plot_cat_history(history.history, epochs)"
      ],
      "metadata": {
        "id": "FU1zGJH36Rba",
        "colab": {
          "base_uri": "https://localhost:8080/",
          "height": 432
        },
        "outputId": "b4de1988-544f-4a0c-c360-e1b06d7257b7"
      },
      "execution_count": 12,
      "outputs": [
        {
          "output_type": "display_data",
          "data": {
            "text/plain": [
              "<Figure size 648x504 with 1 Axes>"
            ],
            "image/png": "[encoded data removed]"
          },
          "metadata": {
            "needs_background": "light"
          }
        }
      ]
    },
    {
      "cell_type": "code",
      "source": [
        "cat_model.evaluate(X_test, y_test)"
      ],
      "metadata": {
        "id": "tveARUbN7F-T",
        "colab": {
          "base_uri": "https://localhost:8080/"
        },
        "outputId": "2f732ede-9525-4221-f2ad-8db393a0fcce"
      },
      "execution_count": 13,
      "outputs": [
        {
          "output_type": "stream",
          "name": "stdout",
          "text": [
            "313/313 [==============================] - 1s 3ms/step - loss: 0.3930 - sparse_categorical_accuracy: 0.8600\n"
          ]
        },
        {
          "output_type": "execute_result",
          "data": {
            "text/plain": [
              "[0.3930022120475769, 0.8600000143051147]"
            ]
          },
          "metadata": {},
          "execution_count": 13
        }
      ]
    },
    {
      "cell_type": "code",
      "source": [
        "test_indices = np.random.randint(0, 10000, 7)\n",
        "test_pred = cat_model.predict(X_test[test_indices])\n",
        "print(y_test[test_indices])\n",
        "print()\n",
        "print(np.argmax(test_pred, axis=1))"
      ],
      "metadata": {
        "id": "iGYxp_61CQpI",
        "colab": {
          "base_uri": "https://localhost:8080/"
        },
        "outputId": "86fa1fdf-7ef5-415f-f238-644b1e8ec8dc"
      },
      "execution_count": 14,
      "outputs": [
        {
          "output_type": "stream",
          "name": "stdout",
          "text": [
            "1/1 [==============================] - 0s 92ms/step\n",
            "[9 7 1 7 2 1 2]\n",
            "\n",
            "[9 7 1 7 2 1 2]\n"
          ]
        }
      ]
    },
    {
      "cell_type": "markdown",
      "source": [
        "# California housing"
      ],
      "metadata": {
        "id": "BCCdXwNLEYU0"
      }
    },
    {
      "cell_type": "code",
      "source": [
        "from sklearn.datasets import fetch_california_housing\n",
        "from sklearn.model_selection import train_test_split"
      ],
      "metadata": {
        "id": "dqOQDByCDi0d"
      },
      "execution_count": 15,
      "outputs": []
    },
    {
      "cell_type": "code",
      "source": [
        "housing = fetch_california_housing()\n",
        "X_train_full, X_test, y_train_full, y_test = train_test_split(housing.data,\n",
        "                                                              housing.target,\n",
        "                                                              test_size=0.1)\n",
        "X_train, X_val, y_train, y_val = train_test_split(X_train_full, y_train_full,\n",
        "                                                  test_size=0.1)"
      ],
      "metadata": {
        "id": "xaMmddB7Ekrm"
      },
      "execution_count": 16,
      "outputs": []
    },
    {
      "cell_type": "code",
      "source": [
        "from sklearn.preprocessing import StandardScaler"
      ],
      "metadata": {
        "id": "T2EY2k3VFT3k"
      },
      "execution_count": 17,
      "outputs": []
    },
    {
      "cell_type": "code",
      "source": [
        "scaler = StandardScaler()\n",
        "X_train = scaler.fit_transform(X_train)\n",
        "X_val = scaler.transform(X_val)\n",
        "X_test = scaler.transform(X_test)"
      ],
      "metadata": {
        "id": "jJYHvXEUFhky"
      },
      "execution_count": 18,
      "outputs": []
    },
    {
      "cell_type": "code",
      "source": [
        "reg_model = keras.models.Sequential()\n",
        "reg_model.add(keras.layers.InputLayer(input_shape=(X_train.shape[1], )))\n",
        "reg_model.add(keras.layers.Dense(30, activation='relu'))\n",
        "reg_model.add(keras.layers.Dense(1))\n",
        "reg_model.build()"
      ],
      "metadata": {
        "id": "2h4f0DLYF0uT"
      },
      "execution_count": 19,
      "outputs": []
    },
    {
      "cell_type": "code",
      "source": [
        "reg_model.summary()"
      ],
      "metadata": {
        "id": "7PufP8lpG27f",
        "colab": {
          "base_uri": "https://localhost:8080/"
        },
        "outputId": "b2a1eb7f-cabe-4216-b78b-a18a89ff5957"
      },
      "execution_count": 20,
      "outputs": [
        {
          "output_type": "stream",
          "name": "stdout",
          "text": [
            "Model: \"sequential_1\"\n",
            "_________________________________________________________________\n",
            " Layer (type)                Output Shape              Param #   \n",
            "=================================================================\n",
            " dense_3 (Dense)             (None, 30)                270       \n",
            "                                                                 \n",
            " dense_4 (Dense)             (None, 1)                 31        \n",
            "                                                                 \n",
            "=================================================================\n",
            "Total params: 301\n",
            "Trainable params: 301\n",
            "Non-trainable params: 0\n",
            "_________________________________________________________________\n"
          ]
        }
      ]
    },
    {
      "cell_type": "code",
      "source": [
        "reg_model.compile(optimizer=keras.optimizers.Adagrad(),\n",
        "                  loss=keras.losses.mean_squared_error,\n",
        "                  metrics=keras.metrics.mse)"
      ],
      "metadata": {
        "id": "dsZga-ZsG5IR"
      },
      "execution_count": 21,
      "outputs": []
    },
    {
      "cell_type": "code",
      "source": [
        "epochs = 70\n",
        "reg_history = reg_model.fit(X_train, y_train, epochs=epochs, validation_data=(X_val, y_val))"
      ],
      "metadata": {
        "id": "oehkSUg1HWYG"
      },
      "execution_count": null,
      "outputs": []
    },
    {
      "cell_type": "code",
      "source": [
        "def plot_reg_history(history, epochs):\n",
        "    rng = range(epochs)\n",
        "    plt.figure(figsize=(9, 7))\n",
        "    plt.plot(rng, history['loss'], label=\"loss\")\n",
        "    plt.plot(rng, history['mean_squared_error'], label=\"mse\")\n",
        "    plt.plot(rng, history['val_loss'], label='val_loss')\n",
        "    plt.plot(rng, history['val_mean_squared_error'], label='val_mse')\n",
        "    plt.legend()"
      ],
      "metadata": {
        "id": "JnuO__kMH8zP"
      },
      "execution_count": 23,
      "outputs": []
    },
    {
      "cell_type": "code",
      "source": [
        "plot_reg_history(reg_history.history, epochs)"
      ],
      "metadata": {
        "id": "36v2M9H3IPzK",
        "colab": {
          "base_uri": "https://localhost:8080/",
          "height": 428
        },
        "outputId": "ff54c833-2410-4440-a7db-be786251f012"
      },
      "execution_count": 24,
      "outputs": [
        {
          "output_type": "display_data",
          "data": {
            "text/plain": [
              "<Figure size 648x504 with 1 Axes>"
            ],
            "image/png": "[encoded data removed]"
          },
          "metadata": {
            "needs_background": "light"
          }
        }
      ]
    },
    {
      "cell_type": "code",
      "source": [
        "reg_model.evaluate(X_test, y_test)"
      ],
      "metadata": {
        "id": "hKRTjlETIVNh",
        "colab": {
          "base_uri": "https://localhost:8080/"
        },
        "outputId": "7bdf9ea5-3ac3-45a7-b181-470c19a49de6"
      },
      "execution_count": 25,
      "outputs": [
        {
          "output_type": "stream",
          "name": "stdout",
          "text": [
            "65/65 [==============================] - 0s 2ms/step - loss: 0.7052 - mean_squared_error: 0.7052\n"
          ]
        },
        {
          "output_type": "execute_result",
          "data": {
            "text/plain": [
              "[0.7052319049835205, 0.7052319049835205]"
            ]
          },
          "metadata": {},
          "execution_count": 25
        }
      ]
    },
    {
      "cell_type": "markdown",
      "source": [
        "# Wide & Deep\n",
        "Технология позволяющая связать выходы глубоко обученной модели(изучившие глубокие паттерны модели) с простыми паттернами(короткий путь от входа к выходу напрямую)"
      ],
      "metadata": {
        "id": "yw_zQBKlNBgB"
      }
    },
    {
      "cell_type": "code",
      "source": [
        "inpt = keras.layers.Input(shape=(X_train.shape[1], ))\n",
        "hid_1 = keras.layers.Dense(30, activation='relu')(inpt)\n",
        "hid_2 = keras.layers.Dense(30, activation='relu')(hid_1)\n",
        "concat = keras.layers.Concatenate()([inpt, hid_2])\n",
        "out = keras.layers.Dense(1)(concat)\n",
        "wide_deep_mod = keras.Model(inputs=[inpt], outputs=[out])"
      ],
      "metadata": {
        "id": "A9TJFgwbJKAj"
      },
      "execution_count": 26,
      "outputs": []
    },
    {
      "cell_type": "code",
      "source": [
        "wide_deep_mod.summary()"
      ],
      "metadata": {
        "id": "btZIbaPyPeyz",
        "colab": {
          "base_uri": "https://localhost:8080/"
        },
        "outputId": "4fcd4a2d-c5a3-4f6a-80b5-5471f9c444a6"
      },
      "execution_count": 27,
      "outputs": [
        {
          "output_type": "stream",
          "name": "stdout",
          "text": [
            "Model: \"model\"\n",
            "__________________________________________________________________________________________________\n",
            " Layer (type)                   Output Shape         Param #     Connected to                     \n",
            "==================================================================================================\n",
            " input_2 (InputLayer)           [(None, 8)]          0           []                               \n",
            "                                                                                                  \n",
            " dense_5 (Dense)                (None, 30)           270         ['input_2[0][0]']                \n",
            "                                                                                                  \n",
            " dense_6 (Dense)                (None, 30)           930         ['dense_5[0][0]']                \n",
            "                                                                                                  \n",
            " concatenate (Concatenate)      (None, 38)           0           ['input_2[0][0]',                \n",
            "                                                                  'dense_6[0][0]']                \n",
            "                                                                                                  \n",
            " dense_7 (Dense)                (None, 1)            39          ['concatenate[0][0]']            \n",
            "                                                                                                  \n",
            "==================================================================================================\n",
            "Total params: 1,239\n",
            "Trainable params: 1,239\n",
            "Non-trainable params: 0\n",
            "__________________________________________________________________________________________________\n"
          ]
        }
      ]
    },
    {
      "cell_type": "code",
      "source": [
        "wide_deep_mod.compile(optimizer=keras.optimizers.Adagrad(),\n",
        "                  loss=keras.losses.mean_squared_error,\n",
        "                  metrics=keras.metrics.mse)"
      ],
      "metadata": {
        "id": "YhU3x-aXPwZk"
      },
      "execution_count": 28,
      "outputs": []
    },
    {
      "cell_type": "code",
      "source": [
        "epochs = 70\n",
        "wide_deep_history = wide_deep_mod.fit(X_train, y_train, epochs=epochs, validation_data=(X_val, y_val))"
      ],
      "metadata": {
        "id": "xgMT3fZ-QLAS"
      },
      "execution_count": null,
      "outputs": []
    },
    {
      "cell_type": "code",
      "source": [
        "plot_reg_history(wide_deep_history.history, epochs)"
      ],
      "metadata": {
        "id": "7WoSDbm3QS_L",
        "colab": {
          "base_uri": "https://localhost:8080/",
          "height": 428
        },
        "outputId": "7dd80164-18e9-4da8-de9e-88bb86b2b0d0"
      },
      "execution_count": 30,
      "outputs": [
        {
          "output_type": "display_data",
          "data": {
            "text/plain": [
              "<Figure size 648x504 with 1 Axes>"
            ],
            "image/png": "[encoded data removed]"
          },
          "metadata": {
            "needs_background": "light"
          }
        }
      ]
    },
    {
      "cell_type": "code",
      "source": [
        "wide_deep_mod.evaluate(X_test, y_test)"
      ],
      "metadata": {
        "id": "ezsGMzR9Qb2f",
        "colab": {
          "base_uri": "https://localhost:8080/"
        },
        "outputId": "defaad39-d8a5-42b6-f954-6a51545b01ec"
      },
      "execution_count": 31,
      "outputs": [
        {
          "output_type": "stream",
          "name": "stdout",
          "text": [
            "65/65 [==============================] - 0s 2ms/step - loss: 0.5662 - mean_squared_error: 0.5662\n"
          ]
        },
        {
          "output_type": "execute_result",
          "data": {
            "text/plain": [
              "[0.566180944442749, 0.566180944442749]"
            ]
          },
          "metadata": {},
          "execution_count": 31
        }
      ]
    },
    {
      "cell_type": "markdown",
      "source": [
        "# Wide&Deep\n",
        "Несколько входов"
      ],
      "metadata": {
        "id": "urCGUlhbRgEn"
      }
    },
    {
      "cell_type": "code",
      "source": [
        "inpt_a = keras.layers.Input(shape=(5, ), name='wide')\n",
        "inpt_b = keras.layers.Input(shape=(6, ), name='deep')\n",
        "hid_1 = keras.layers.Dense(30, activation='relu')(inpt_b)\n",
        "hid_2 = keras.layers.Dense(30, activation='relu')(hid_1)\n",
        "concat = keras.layers.Concatenate(name='concat')([inpt_a, hid_2])\n",
        "out = keras.layers.Dense(1, name='output')(concat)\n",
        "wide_deep_mod = keras.Model(inputs=[inpt_a, inpt_b], outputs=[out])"
      ],
      "metadata": {
        "id": "_0rvsLakQv7V"
      },
      "execution_count": 32,
      "outputs": []
    },
    {
      "cell_type": "code",
      "source": [
        "wide_deep_mod.summary()"
      ],
      "metadata": {
        "id": "wzKmKjrMT_Vx",
        "colab": {
          "base_uri": "https://localhost:8080/"
        },
        "outputId": "3757f191-2a80-45c7-8641-ed4ee6454a5b"
      },
      "execution_count": 33,
      "outputs": [
        {
          "output_type": "stream",
          "name": "stdout",
          "text": [
            "Model: \"model_1\"\n",
            "__________________________________________________________________________________________________\n",
            " Layer (type)                   Output Shape         Param #     Connected to                     \n",
            "==================================================================================================\n",
            " deep (InputLayer)              [(None, 6)]          0           []                               \n",
            "                                                                                                  \n",
            " dense_8 (Dense)                (None, 30)           210         ['deep[0][0]']                   \n",
            "                                                                                                  \n",
            " wide (InputLayer)              [(None, 5)]          0           []                               \n",
            "                                                                                                  \n",
            " dense_9 (Dense)                (None, 30)           930         ['dense_8[0][0]']                \n",
            "                                                                                                  \n",
            " concat (Concatenate)           (None, 35)           0           ['wide[0][0]',                   \n",
            "                                                                  'dense_9[0][0]']                \n",
            "                                                                                                  \n",
            " output (Dense)                 (None, 1)            36          ['concat[0][0]']                 \n",
            "                                                                                                  \n",
            "==================================================================================================\n",
            "Total params: 1,176\n",
            "Trainable params: 1,176\n",
            "Non-trainable params: 0\n",
            "__________________________________________________________________________________________________\n"
          ]
        }
      ]
    },
    {
      "cell_type": "code",
      "source": [
        "wide_deep_mod.compile(optimizer=keras.optimizers.Adagrad(),\n",
        "                  loss=keras.losses.mean_squared_error,\n",
        "                  metrics=keras.metrics.mse)"
      ],
      "metadata": {
        "id": "Ny9N8by_UX-Y"
      },
      "execution_count": 34,
      "outputs": []
    },
    {
      "cell_type": "code",
      "source": [
        "epochs = 70\n",
        "wide_deep_hist = wide_deep_mod.fit((X_train[:, :5], X_train[:,2:]), y_train,\n",
        "                                   epochs=epochs,\n",
        "                                   validation_data=((X_val[:, :5], X_val[:, 2:]), y_val))"
      ],
      "metadata": {
        "id": "nbKvciEuUt4y"
      },
      "execution_count": null,
      "outputs": []
    },
    {
      "cell_type": "code",
      "source": [
        "plot_reg_history(wide_deep_history.history, epochs)"
      ],
      "metadata": {
        "id": "hATV2kL9VZx0",
        "colab": {
          "base_uri": "https://localhost:8080/",
          "height": 428
        },
        "outputId": "85dca9f7-3992-4588-8dee-dd128da21194"
      },
      "execution_count": 36,
      "outputs": [
        {
          "output_type": "display_data",
          "data": {
            "text/plain": [
              "<Figure size 648x504 with 1 Axes>"
            ],
            "image/png": "[encoded data removed]"
          },
          "metadata": {
            "needs_background": "light"
          }
        }
      ]
    },
    {
      "cell_type": "markdown",
      "source": [
        "# Wide&Deep\n",
        "несколько входов, несколько выходов"
      ],
      "metadata": {
        "id": "jXZI8c2NQM64"
      }
    },
    {
      "cell_type": "code",
      "source": [
        "inpt_1 = keras.layers.Input(shape=(5, ))\n",
        "inpt_2 = keras.layers.Input(shape=(6, ))\n",
        "hidn_1 = keras.layers.Dense(30, activation='relu')(inpt_2)\n",
        "hidn_2 = keras.layers.Dense(30, activation='relu')(hidn_1)\n",
        "concat = keras.layers.Concatenate()([inpt_1, hidn_2])\n",
        "out_1 = keras.layers.Dense(1, name='main')(concat)\n",
        "out_2 = keras.layers.Dense(1, name='sub')(hidn_2)\n",
        "wide_deep_mul_model = keras.Model(inputs=[inpt_1, inpt_2], outputs=[out_1, out_2])"
      ],
      "metadata": {
        "id": "aAX74OR0ADhx"
      },
      "execution_count": 37,
      "outputs": []
    },
    {
      "cell_type": "code",
      "source": [
        "wide_deep_mul_model.summary()"
      ],
      "metadata": {
        "colab": {
          "base_uri": "https://localhost:8080/"
        },
        "id": "h50w4MJjRYQV",
        "outputId": "3ce7bead-d2bc-4327-d716-206a66c1c07b"
      },
      "execution_count": 38,
      "outputs": [
        {
          "output_type": "stream",
          "name": "stdout",
          "text": [
            "Model: \"model_2\"\n",
            "__________________________________________________________________________________________________\n",
            " Layer (type)                   Output Shape         Param #     Connected to                     \n",
            "==================================================================================================\n",
            " input_4 (InputLayer)           [(None, 6)]          0           []                               \n",
            "                                                                                                  \n",
            " dense_10 (Dense)               (None, 30)           210         ['input_4[0][0]']                \n",
            "                                                                                                  \n",
            " input_3 (InputLayer)           [(None, 5)]          0           []                               \n",
            "                                                                                                  \n",
            " dense_11 (Dense)               (None, 30)           930         ['dense_10[0][0]']               \n",
            "                                                                                                  \n",
            " concatenate_1 (Concatenate)    (None, 35)           0           ['input_3[0][0]',                \n",
            "                                                                  'dense_11[0][0]']               \n",
            "                                                                                                  \n",
            " main (Dense)                   (None, 1)            36          ['concatenate_1[0][0]']          \n",
            "                                                                                                  \n",
            " sub (Dense)                    (None, 1)            31          ['dense_11[0][0]']               \n",
            "                                                                                                  \n",
            "==================================================================================================\n",
            "Total params: 1,207\n",
            "Trainable params: 1,207\n",
            "Non-trainable params: 0\n",
            "__________________________________________________________________________________________________\n"
          ]
        }
      ]
    },
    {
      "cell_type": "code",
      "source": [
        "wide_deep_mul_model.compile(\n",
        "    optimizer=keras.optimizers.Adagrad(),\n",
        "    loss=[keras.losses.mean_squared_error, keras.losses.mean_squared_error],\n",
        "    metrics=[keras.metrics.mse],\n",
        "    loss_weights=[0.7, 0.3]\n",
        ")"
      ],
      "metadata": {
        "id": "YxhXij2XSM4M"
      },
      "execution_count": 39,
      "outputs": []
    },
    {
      "cell_type": "code",
      "source": [
        "wide_deep_mul_history = wide_deep_mul_model.fit(x = [X_train[:, :5], X_train[:, 2:]],\n",
        "                                                y = [y_train, y_train],\n",
        "                                                epochs=epochs,\n",
        "                                                validation_data=((X_val[:, :5], X_val[:, 2:]), ([y_val, y_val])))"
      ],
      "metadata": {
        "id": "UM4CkwT7j9W-"
      },
      "execution_count": null,
      "outputs": []
    },
    {
      "cell_type": "markdown",
      "source": [
        "# Callback, EarlyStopping"
      ],
      "metadata": {
        "id": "ktE2WVtxwpj5"
      }
    },
    {
      "cell_type": "code",
      "source": [
        "model = keras.models.Sequential([\n",
        "    keras.layers.Dense(30, activation='relu'),\n",
        "    keras.layers.Dense(30, activation='relu'),\n",
        "    keras.layers.Dense(1)\n",
        "])\n",
        "#checkpoint_cb = keras.callbacks.ModelCheckpoint('tmp.h5', save_best_only=True)\n",
        "early_stopping_cb = keras.callbacks.EarlyStopping(patience=10, restore_best_weights=True)\n",
        "\n",
        "model.compile(optimizer=keras.optimizers.Adagrad(),\n",
        "              loss=keras.losses.mean_squared_error,\n",
        "              metrics=keras.metrics.mean_squared_error)\n",
        "mod_history = model.fit(X_train, y_train, epochs=100, validation_data=(X_val, y_val), callbacks=[early_stopping_cb])"
      ],
      "metadata": {
        "id": "S6risDYHvxN6"
      },
      "execution_count": null,
      "outputs": []
    },
    {
      "cell_type": "code",
      "source": [
        "plot_reg_history(mod_history.history, 100)"
      ],
      "metadata": {
        "colab": {
          "base_uri": "https://localhost:8080/",
          "height": 428
        },
        "id": "ZRsc8YeoyiZ0",
        "outputId": "f43e3a68-ccfe-429d-e09e-3a4fb2e32ded"
      },
      "execution_count": 47,
      "outputs": [
        {
          "output_type": "display_data",
          "data": {
            "text/plain": [
              "<Figure size 648x504 with 1 Axes>"
            ],
            "image/png": "[encoded data removed]"
          },
          "metadata": {
            "needs_background": "light"
          }
        }
      ]
    },
    {
      "cell_type": "code",
      "source": [],
      "metadata": {
        "id": "2rtBOWKFz4Y9"
      },
      "execution_count": null,
      "outputs": []
    }
  ]
}