{
  "nbformat": 4,
  "nbformat_minor": 0,
  "metadata": {
    "colab": {
      "provenance": [],
      "authorship_tag": "ABX9TyPGjJ0cHv4m1zTpIxoAUs+e"
    },
    "kernelspec": {
      "name": "python3",
      "display_name": "Python 3"
    },
    "language_info": {
      "name": "python"
    }
  },
  "cells": [
    {
      "cell_type": "code",
      "execution_count": 1,
      "metadata": {
        "id": "GeEA5_wE2QNY"
      },
      "outputs": [],
      "source": [
        "import numpy as np\n",
        "import pandas as pd\n",
        "import matplotlib.pyplot as plt"
      ]
    },
    {
      "cell_type": "code",
      "source": [
        "from sklearn import datasets"
      ],
      "metadata": {
        "id": "V6eZRuoa2ceB"
      },
      "execution_count": 2,
      "outputs": []
    },
    {
      "cell_type": "code",
      "source": [
        "iris = datasets.load_iris()"
      ],
      "metadata": {
        "id": "J5XE_P5N2qru"
      },
      "execution_count": 3,
      "outputs": []
    },
    {
      "cell_type": "code",
      "source": [
        "X = iris.data[:, 2:]\n",
        "y = iris.target"
      ],
      "metadata": {
        "id": "LeKStfYG28Mn"
      },
      "execution_count": 4,
      "outputs": []
    },
    {
      "cell_type": "code",
      "source": [
        "def distance(X,x_new):\n",
        "    \"\"\"\n",
        "        Функция возвращающая Евклидово расстояние между точками мн-ва X\n",
        "        и новой точкой x_new\n",
        "    \"\"\"\n",
        "    return np.sqrt(np.sum((X - x_new) ** 2, axis=1, keepdims=True))"
      ],
      "metadata": {
        "id": "YP8z34xW3tZi"
      },
      "execution_count": 5,
      "outputs": []
    },
    {
      "cell_type": "code",
      "source": [
        "x_new = np.array([[4.95, 1.51], [1.5, 0.25], [6, 2]])\n",
        "for point in x_new:\n",
        "    dis = distance(X, point)\n",
        "\n",
        "    k = 5 # количество соседей для алгоритма knn\n",
        "    tmp_dict = {} # словарь для подсчёта моды\n",
        "    for t in y[np.argsort(dis[:, 0])][:k]: # t - список из k ближайших соседей\n",
        "        try:\n",
        "            tmp_dict[t] += 1\n",
        "        except:\n",
        "            tmp_dict[t] = 1\n",
        "    print(\"Point: {}\\tKNN: {}\".format(point, tmp_dict))"
      ],
      "metadata": {
        "colab": {
          "base_uri": "https://localhost:8080/"
        },
        "id": "62raz5jN4dQr",
        "outputId": "70400e89-4d61-4e4b-b207-5540335c5ab9"
      },
      "execution_count": 6,
      "outputs": [
        {
          "output_type": "stream",
          "name": "stdout",
          "text": [
            "Point: [4.95 1.51]\tKNN: {1: 3, 2: 2}\n",
            "Point: [1.5  0.25]\tKNN: {0: 5}\n",
            "Point: [6. 2.]\tKNN: {2: 5}\n"
          ]
        }
      ]
    },
    {
      "cell_type": "code",
      "source": [
        "plt.figure(figsize=(11, 9))\n",
        "plt.scatter(X[(y==0).flatten(),0], X[(y==0).flatten(),1])\n",
        "plt.scatter(X[(y==1).flatten(),0], X[(y==1).flatten(),1])\n",
        "plt.scatter(X[(y==2).flatten(),0], X[(y==2).flatten(),1])\n",
        "plt.scatter(x_new[:,0], x_new[:,1])\n",
        "plt.xlabel(\"Длина лепестка\")\n",
        "plt.ylabel(\"Ширина лепестка\")"
      ],
      "metadata": {
        "colab": {
          "base_uri": "https://localhost:8080/",
          "height": 568
        },
        "id": "b-VDEgna5uGn",
        "outputId": "75f5e7a5-93d1-4010-e129-5967b45d75a4"
      },
      "execution_count": 7,
      "outputs": [
        {
          "output_type": "execute_result",
          "data": {
            "text/plain": [
              "Text(0, 0.5, 'Ширина лепестка')"
            ]
          },
          "metadata": {},
          "execution_count": 7
        },
        {
          "output_type": "display_data",
          "data": {
            "text/plain": [
              "<Figure size 792x648 with 1 Axes>"
            ],
            "image/png": "[encoded data removed]"
          },
          "metadata": {
            "needs_background": "light"
          }
        }
      ]
    },
    {
      "cell_type": "code",
      "source": [],
      "metadata": {
        "id": "a3TxDmHINwwS"
      },
      "execution_count": 7,
      "outputs": []
    }
  ]
}